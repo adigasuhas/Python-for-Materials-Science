{
 "cells": [
  {
   "cell_type": "markdown",
   "id": "d4ecff7c",
   "metadata": {},
   "source": [
    "# 🧪 Introduction to Python for Materials Science\n",
    "\n",
    "**Created by**: [@adigasuhas](https://github.com/adigasuhas)  \n",
    "**Contact me**: suhasadiga@jncasr.ac.in\n",
    "\n",
    "---\n",
    "\n",
    "Welcome! 👋  \n",
    "This notebook is part of a tutorial series that aims to teach Python from the ground zero, in a simple, clear, and beginner-friendly way, with examples relevant to **Materials Science**.\n",
    "\n",
    "Python is one of the most popular and versatile programming languages today. Whether you're analyzing data, automating calculations, or running simulations, Python is an essential tool for modern research.\n",
    "\n",
    "---\n",
    "\n",
    "### ✅ What We'll Learn in This Notebook\n",
    "\n",
    "In this part of the series, we'll cover:\n",
    "\n",
    "- 🛠️ **Setting up a virtual environment** – so your projects are clean and organized\n",
    "- 🔤 **Understanding variables and data types** – the building blocks of any program\n",
    "- 🔁 **Using loops and conditionals** – making decisions and repeating tasks\n",
    "- 🧩 **Writing functions and defining classes** – to structure your code efficiently\n",
    "- 🎯 **Following PEP-8 Guidelines** – writing code that is clean and readable\n",
    "- 💡 **Jupyter Notebook hacks** – tips to supercharge your productivity\n",
    "\n",
    "---\n",
    "\n",
    "> 📌 **Note**: This tutorial assumes **no prior programming knowledge**. Each concept will be explained step-by-step, with examples and analogies where possible.\n",
    "\n",
    "Let’s begin! 🚀\n"
   ]
  },
  {
   "cell_type": "markdown",
   "id": "0985d2f6",
   "metadata": {},
   "source": [
    "# ⚙️ Setting Up a Virtual Environment in Ubuntu\n",
    "\n",
    "> ❗**Skip this section if you've already set up a Python virtual environment.**\n",
    "\n",
    "In Python-based research, especially in **Materials Science**, we often need to install different libraries for simulations, plotting, machine learning, etc.\n",
    "\n",
    "To avoid breaking system tools or conflicting package versions, it’s best to work inside a **virtual environment** — a safe, isolated space for each project.\n",
    "\n",
    "---\n",
    "\n",
    "## 🐍 Why Python 3.10?\n",
    "\n",
    "Many scientific and ML libraries like `ASE`, `Pymatgen`, `Matplotlib`, and `Scikit-learn` work best with Python **3.10 or above**. So we will install and use Python 3.10.\n",
    "\n",
    "It’s always a good idea to create the virtual environment in your **home directory**, like:  \n",
    "`~/venv/mspy`\n",
    "\n",
    "---\n",
    "\n",
    "## 🛠️ Step 1: Install Python 3.10 and `venv`\n",
    "\n",
    "Open your terminal and run the following commands one-by-one:\n",
    "\n",
    "```bash\n",
    "# Update package lists\n",
    "sudo apt update\n",
    "\n",
    "# Add repository for newer versions of Python\n",
    "sudo add-apt-repository ppa:deadsnakes/ppa\n",
    "\n",
    "# Install Python 3.10 and its virtual environment module\n",
    "sudo apt install python3.10 python3.10-dev python3.10-venv\n"
   ]
  },
  {
   "cell_type": "markdown",
   "id": "018e80d3",
   "metadata": {},
   "source": [
    "## Step 2: Activating the virtual environment \n",
    "\n",
    "```bash\n",
    "python3.10 -m venv matpy\n",
    "source matpy/bin/activate\n"
   ]
  },
  {
   "cell_type": "markdown",
   "id": "8834dcf0",
   "metadata": {},
   "source": [
    "## Step 3: Installing required packages using 'pip'\n",
    "\n",
    "We will install some Python libraries we will use in this  course.\n",
    "\n",
    "```bash\n",
    "pip install numpy pandas pymatgen smact scipy\n"
   ]
  },
  {
   "cell_type": "markdown",
   "id": "d39b5caa",
   "metadata": {},
   "source": [
    "# About Python 🐍"
   ]
  },
  {
   "cell_type": "markdown",
   "id": "9a425046",
   "metadata": {},
   "source": [
    "Python is a high-level, general-purpose programming language known for its simplicity and readability, making it an ideal choice for scientists and researchers. Guido van Rossum started developing Python in the late 1980s as a successor to the ABC language, with the first version, **Python 0.9.0**, released in 1991. Since then, Python has evolved through major milestones, including:\n",
    "\n",
    "- **Python 2.0** – released in 2000  \n",
    "- **Python 3.0** – released in 2008 (a major revision not backward-compatible with Python 2)  \n",
    "\n",
    "While Python 2 was officially retired in 2020, Python 3 remains the standard, offering powerful features and improved performance.\n",
    "\n",
    "---\n",
    "\n",
    "## 📚 **Why Python for Materials Science?**\n",
    "\n",
    "Python's flexibility and extensive libraries make it a great tool for solving complex problems in materials science, including data analysis, simulations, and visualization. Popular libraries include:\n",
    "\n",
    "- **NumPy** – for numerical computations  \n",
    "- **SciPy** – for scientific computing  \n",
    "- **Matplotlib** – for data visualization  \n",
    "- **ASE (Atomic Simulation Environment)** – for atomistic simulations  \n",
    "- **Pymatgen** – for materials informatics and computational materials science  \n",
    "\n",
    "These libraries provide robust functionality, making Python an invaluable tool for materials scientists.\n",
    "\n",
    "---\n",
    "\n",
    "## ⚡ **What is REPL?**\n",
    "\n",
    "Python also provides a **Read–Eval–Print Loop (REPL)**, which is an interactive environment where users can enter Python commands, evaluate expressions, and see results immediately. The REPL is commonly accessed through the Python interpreter by running:\n",
    "\n",
    "```bash\n",
    "python\n",
    "# or\n",
    "python3\n"
   ]
  },
  {
   "cell_type": "markdown",
   "id": "7d5ed9cc",
   "metadata": {},
   "source": [
    "## 🧠 Useful Python & Jupyter Notebook Tips\n",
    "\n",
    "As you start coding in Python, especially inside Jupyter Notebooks, here are some **handy tricks** that will make your life easier, faster, and a little more fun!\n",
    "\n",
    "---\n",
    "\n",
    "### 📝 Multiline Comments\n",
    "\n",
    "✔️ You can use **triple quotes** (`'''` or `\"\"\"`) to write multiline comments:\n",
    "\n",
    "```python\n",
    "''' \n",
    "This is\n",
    "a multiline\n",
    "comment\n",
    "'''\n"
   ]
  },
  {
   "cell_type": "markdown",
   "id": "db7de0b2",
   "metadata": {},
   "source": [
    "## 🐚 Run Shell Commands in Jupyter\n",
    "\n",
    "You can run Linux shell commands inside Jupyter using !:\n"
   ]
  },
  {
   "cell_type": "code",
   "execution_count": 1,
   "id": "a2de2bbc",
   "metadata": {},
   "outputs": [
    {
     "name": "stdout",
     "output_type": "stream",
     "text": [
      "'1] Introduction to Python.ipynb'\n",
      "Requirement already satisfied: numpy in /home/suhasadiga/my_env/lib/python3.10/site-packages (1.26.4)\n"
     ]
    }
   ],
   "source": [
    "!ls                      # List files in current directory\n",
    "!pip install numpy       # Install a package from within the notebook"
   ]
  },
  {
   "cell_type": "markdown",
   "id": "8d2e5dab",
   "metadata": {},
   "source": [
    "## ⏱️ Time Your Code\n",
    "When you want to check how fast a piece of code runs (very useful in simulations!):"
   ]
  },
  {
   "cell_type": "code",
   "execution_count": 9,
   "id": "4936e4ca",
   "metadata": {},
   "outputs": [
    {
     "name": "stdout",
     "output_type": "stream",
     "text": [
      "None\n",
      "CPU times: user 43 μs, sys: 0 ns, total: 43 μs\n",
      "Wall time: 47 μs\n"
     ]
    }
   ],
   "source": [
    "%%time \n",
    "# Times the whole cell\n",
    "def f(x):\n",
    "    sum(range(x))\n",
    "\n",
    "print(f(100))"
   ]
  },
  {
   "cell_type": "code",
   "execution_count": 10,
   "id": "40e00c33",
   "metadata": {},
   "outputs": [
    {
     "name": "stdout",
     "output_type": "stream",
     "text": [
      "781 ns ± 3.25 ns per loop (mean ± std. dev. of 7 runs, 1,000,000 loops each)\n"
     ]
    }
   ],
   "source": [
    "# Best for quick benchmarking of one-liners\n",
    "\n",
    "%timeit sum(range(100))    "
   ]
  },
  {
   "cell_type": "markdown",
   "id": "e06400c6",
   "metadata": {},
   "source": [
    "## 🔍 View Source Code or Docs (in Jupyter)\n",
    "\n",
    "```python\n",
    "?print        # View the docstring (basic help)\n",
    "??print       # Show full source code (if available)\n",
    "\n",
    "```"
   ]
  },
  {
   "cell_type": "markdown",
   "id": "96d8234b",
   "metadata": {},
   "source": [
    "## 🧠 Use _ for Last Expression Result in Interpreter\n",
    "\n",
    "```python\n",
    ">>> 5 + 5\n",
    "10\n",
    ">>> _ * 2\n",
    "20\n",
    "```\n",
    "This works in the Python interpreter or IPython/Jupyter shells.\n",
    "\n"
   ]
  },
  {
   "cell_type": "markdown",
   "id": "6990b824",
   "metadata": {},
   "source": [
    "# 1️⃣ Variables in Python\n",
    "\n",
    "Variables are used to **store data**. You can think of them as labeled boxes where you put values. Python automatically figures out the type of data you're storing.\n"
   ]
  },
  {
   "cell_type": "markdown",
   "id": "387bf68a",
   "metadata": {},
   "source": [
    "## 🔢 Integer Variable\n",
    "\n",
    "An integer is a whole number — positive, negative, or zero.\n"
   ]
  },
  {
   "cell_type": "code",
   "execution_count": 11,
   "id": "fb147b22",
   "metadata": {},
   "outputs": [
    {
     "name": "stdout",
     "output_type": "stream",
     "text": [
      "1\n",
      "<class 'int'>\n"
     ]
    }
   ],
   "source": [
    "x = 1\n",
    "print(x)\n",
    "print(type(x))  # <class 'int'>\n"
   ]
  },
  {
   "cell_type": "markdown",
   "id": "b42331b4",
   "metadata": {},
   "source": [
    "## 🌊 Float Variable\n",
    "\n",
    "A float (or floating-point number) represents real numbers with decimal points.\n"
   ]
  },
  {
   "cell_type": "code",
   "execution_count": 12,
   "id": "616a57b2",
   "metadata": {},
   "outputs": [
    {
     "name": "stdout",
     "output_type": "stream",
     "text": [
      "3.0\n",
      "<class 'float'>\n"
     ]
    }
   ],
   "source": [
    "y = 3.0\n",
    "print(y)\n",
    "print(type(y))  # <class 'float'>\n"
   ]
  },
  {
   "cell_type": "markdown",
   "id": "c3f2aee5",
   "metadata": {},
   "source": [
    "## 🧪 String Variable\n",
    "\n",
    "Strings are sequences of characters, often used to store chemical symbols, labels, or names.\n"
   ]
  },
  {
   "cell_type": "code",
   "execution_count": 13,
   "id": "dde1db0d",
   "metadata": {},
   "outputs": [
    {
     "name": "stdout",
     "output_type": "stream",
     "text": [
      "NaCl\n",
      "<class 'str'>\n"
     ]
    }
   ],
   "source": [
    "z = 'NaCl'\n",
    "print(z)\n",
    "print(type(z))  # <class 'str'>\n"
   ]
  },
  {
   "cell_type": "markdown",
   "id": "ed2d4c11",
   "metadata": {},
   "source": [
    "## 🔤 Text Variable (also a string!)\n",
    "\n",
    "Even if the content looks like a number (like `'5'`), if it’s in quotes, it’s treated as a **string**.\n"
   ]
  },
  {
   "cell_type": "code",
   "execution_count": 14,
   "id": "f389daac",
   "metadata": {},
   "outputs": [
    {
     "name": "stdout",
     "output_type": "stream",
     "text": [
      "5\n",
      "<class 'str'>\n"
     ]
    }
   ],
   "source": [
    "u = '5'\n",
    "print(u)\n",
    "print(type(u))  # <class 'str'>\n"
   ]
  },
  {
   "cell_type": "markdown",
   "id": "d2f00d44",
   "metadata": {},
   "source": [
    "## ✅ Boolean Variable\n",
    "\n",
    "Booleans store just **two values**: `True` or `False`.  \n",
    "Very useful in condition checking (e.g., \"Is this material metallic?\")\n"
   ]
  },
  {
   "cell_type": "code",
   "execution_count": 15,
   "id": "0101a276",
   "metadata": {},
   "outputs": [
    {
     "name": "stdout",
     "output_type": "stream",
     "text": [
      "True\n",
      "<class 'bool'>\n"
     ]
    }
   ],
   "source": [
    "v = True\n",
    "print(v)\n",
    "print(type(v))  # <class 'bool'>\n"
   ]
  },
  {
   "cell_type": "markdown",
   "id": "9462fbd6",
   "metadata": {},
   "source": [
    "## ⚡ Handy Python Trick: Swapping Variables\n",
    "\n",
    "You can swap two variables in Python without using a temporary third variable!\n"
   ]
  },
  {
   "cell_type": "code",
   "execution_count": 16,
   "id": "73817be1",
   "metadata": {},
   "outputs": [
    {
     "name": "stdout",
     "output_type": "stream",
     "text": [
      "a = 20\n",
      "b = 10\n"
     ]
    }
   ],
   "source": [
    "a = 10\n",
    "b = 20\n",
    "a, b = b, a\n",
    "print(\"a =\", a)\n",
    "print(\"b =\", b)\n"
   ]
  },
  {
   "cell_type": "markdown",
   "id": "552fe994",
   "metadata": {},
   "source": [
    "# 2️⃣ Data Types in Python\n",
    "\n",
    "Python supports many types of data. Here, we'll look at:\n",
    "- `list`: ordered and **mutable** (can be changed)\n",
    "- `tuple`: ordered and **immutable** (cannot be changed)\n",
    "- `sets`: unordered and **mutable** (can be changed, repetitions are considered same)\n",
    "\n",
    "Let’s go through both with examples relevant to materials science.\n"
   ]
  },
  {
   "cell_type": "markdown",
   "id": "1139aec0",
   "metadata": {},
   "source": [
    "## 📋 Lists — Ordered & Mutable\n",
    "\n",
    "A `list` can store multiple values (even of different types!) and you can modify it after creation.\n"
   ]
  },
  {
   "cell_type": "code",
   "execution_count": 17,
   "id": "728889d6",
   "metadata": {},
   "outputs": [
    {
     "name": "stdout",
     "output_type": "stream",
     "text": [
      "['YBa2Cu3O7', 92.5, True]\n"
     ]
    }
   ],
   "source": [
    "# Creating a list\n",
    "w = ['YBa2Cu3O7', 92.5, True]\n",
    "print(w)\n"
   ]
  },
  {
   "cell_type": "code",
   "execution_count": 18,
   "id": "06557fe3",
   "metadata": {},
   "outputs": [
    {
     "name": "stdout",
     "output_type": "stream",
     "text": [
      "The compound is YBa2Cu3O7 and has a critical temperature of 92.5 K.\n"
     ]
    }
   ],
   "source": [
    "# Using an f-string to insert the compound name and Tc value\n",
    "print(f'The compound is {w[0]} and has a critical temperature of {w[1]} K.')\n"
   ]
  },
  {
   "cell_type": "code",
   "execution_count": 19,
   "id": "efc64274",
   "metadata": {},
   "outputs": [
    {
     "name": "stdout",
     "output_type": "stream",
     "text": [
      "['YBa2Cu3O7', 92.5, 'Superconductor']\n"
     ]
    }
   ],
   "source": [
    "# Replacing an element in the list\n",
    "w[2] = 'Superconductor'\n",
    "print(w)\n"
   ]
  },
  {
   "cell_type": "code",
   "execution_count": 20,
   "id": "91ecbfc7",
   "metadata": {},
   "outputs": [
    {
     "name": "stdout",
     "output_type": "stream",
     "text": [
      "['YBa2Cu3O7', 92.5, 'Superconductor', 1987, 'Paul Chu']\n",
      "The length of the list w is: 5\n"
     ]
    }
   ],
   "source": [
    "# Appending more details to the list\n",
    "w.append(1987)          # Year of discovery\n",
    "w.append('Paul Chu')    # Scientist associated with discovery\n",
    "print(w)\n",
    "print('The length of the list w is:', len(w))\n"
   ]
  },
  {
   "cell_type": "markdown",
   "id": "ec13349a",
   "metadata": {},
   "source": [
    "## 🧮 List Operations\n",
    "\n",
    "You can do arithmetic-like operations such as **combining** lists.\n"
   ]
  },
  {
   "cell_type": "code",
   "execution_count": 22,
   "id": "b85b7626",
   "metadata": {},
   "outputs": [
    {
     "name": "stdout",
     "output_type": "stream",
     "text": [
      "[92.5, 4.2, 250, 93.5, 5, 225]\n"
     ]
    }
   ],
   "source": [
    "s = [92.5, 4.2, 250]\n",
    "t = [93.5, 5, 225]\n",
    "\n",
    "# Combine both lists\n",
    "a = s + t\n",
    "print(a)\n"
   ]
  },
  {
   "cell_type": "markdown",
   "id": "e235b193",
   "metadata": {},
   "source": [
    "## 🔍 List Indexing and Slicing\n",
    "\n",
    "You can access parts of a list using indexing:\n",
    "- Indexing starts from `0`\n",
    "- Negative index counts from the end\n"
   ]
  },
  {
   "cell_type": "code",
   "execution_count": 24,
   "id": "7a28724c",
   "metadata": {},
   "outputs": [
    {
     "name": "stdout",
     "output_type": "stream",
     "text": [
      "[92.5, 4.2, 250]\n",
      "225\n",
      "[92.5, 4.2]\n"
     ]
    }
   ],
   "source": [
    "print(a[0:3])  # First 3 elements\n",
    "print(a[-1])   # Last element\n",
    "print(a[:2])   # First 2 elements\n"
   ]
  },
  {
   "cell_type": "markdown",
   "id": "c6cd5fe0",
   "metadata": {},
   "source": [
    "## 📦 Tuples — Ordered & Immutable\n",
    "\n",
    "A `tuple` is like a list, but **you can’t change its values** after creation.\n"
   ]
  },
  {
   "cell_type": "code",
   "execution_count": 25,
   "id": "e543a554",
   "metadata": {},
   "outputs": [
    {
     "name": "stdout",
     "output_type": "stream",
     "text": [
      "(2008, 'FeAs') <class 'tuple'>\n"
     ]
    }
   ],
   "source": [
    "# Creating a tuple\n",
    "c = (2008, 'FeAs')\n",
    "print(c, type(c))\n"
   ]
  },
  {
   "cell_type": "code",
   "execution_count": 26,
   "id": "f3682b75",
   "metadata": {},
   "outputs": [
    {
     "name": "stdout",
     "output_type": "stream",
     "text": [
      "(2008, 'FeAs', 2019, 'LaH10')\n"
     ]
    }
   ],
   "source": [
    "# Adding more items (creates a new tuple)\n",
    "c = c + (2019, 'LaH10')\n",
    "print(c)\n"
   ]
  },
  {
   "cell_type": "code",
   "execution_count": 28,
   "id": "3007f694",
   "metadata": {},
   "outputs": [
    {
     "ename": "SyntaxError",
     "evalue": "invalid character '❌' (U+274C) (2056305361.py, line 3)",
     "output_type": "error",
     "traceback": [
      "\u001b[0;36m  Cell \u001b[0;32mIn[28], line 3\u001b[0;36m\u001b[0m\n\u001b[0;31m    > ❌ This will raise a `TypeError` because **tuples are immutable**:\u001b[0m\n\u001b[0m      ^\u001b[0m\n\u001b[0;31mSyntaxError\u001b[0m\u001b[0;31m:\u001b[0m invalid character '❌' (U+274C)\n"
     ]
    }
   ],
   "source": [
    "# Trying to change an element will give an error\n",
    "c[2] = 2020"
   ]
  },
  {
   "cell_type": "markdown",
   "id": "0750744b",
   "metadata": {},
   "source": [
    "## 🔘 Sets in Python\n",
    "\n",
    "A **set** is a collection of **unique**, unordered items.  \n",
    "- Duplicates are automatically removed.\n",
    "- Sets are **mutable**, so you can add/remove items.\n"
   ]
  },
  {
   "cell_type": "code",
   "execution_count": 30,
   "id": "c85589be",
   "metadata": {},
   "outputs": [
    {
     "name": "stdout",
     "output_type": "stream",
     "text": [
      "{91, 92, 93, 94, 95}\n"
     ]
    }
   ],
   "source": [
    "# A list with duplicate values\n",
    "d = [92, 91, 93, 92, 94, 95]\n",
    "\n",
    "# Converting list to set removes duplicates\n",
    "print(set(d))\n"
   ]
  },
  {
   "cell_type": "code",
   "execution_count": 31,
   "id": "7257e7f9",
   "metadata": {
    "scrolled": true
   },
   "outputs": [
    {
     "name": "stdout",
     "output_type": "stream",
     "text": [
      "{97, 91, 92, 93, 94, 95}\n"
     ]
    }
   ],
   "source": [
    "# Convert list to set and assign it to variable\n",
    "e = set(d)\n",
    "\n",
    "# Add a new element\n",
    "e.add(97)    # Adds a single value\n",
    "\n",
    "# Observe the updated set (order may vary!)\n",
    "print(e)\n"
   ]
  },
  {
   "cell_type": "code",
   "execution_count": 32,
   "id": "445e23e5",
   "metadata": {},
   "outputs": [
    {
     "name": "stdout",
     "output_type": "stream",
     "text": [
      "{97, 89, 91, 92, 93, 94, 95}\n"
     ]
    }
   ],
   "source": [
    "# Add another element\n",
    "e.add(89)    # Again, adds a single value\n",
    "print(e)\n"
   ]
  },
  {
   "cell_type": "code",
   "execution_count": 33,
   "id": "1ae7d566",
   "metadata": {},
   "outputs": [
    {
     "name": "stdout",
     "output_type": "stream",
     "text": [
      "{97, 102, 75, 88, 89, 91, 92, 93, 94, 95}\n"
     ]
    }
   ],
   "source": [
    "# Add multiple elements using update()\n",
    "e.update([75, 88, 102, 95])  # 95 is already present, so it won't be added again\n",
    "print(e)\n"
   ]
  },
  {
   "cell_type": "code",
   "execution_count": 16,
   "id": "1c15ef91",
   "metadata": {},
   "outputs": [
    {
     "data": {
      "text/plain": [
       "{75, 88, 89, 91, 92, 93, 94, 95, 97, 102}"
      ]
     },
     "execution_count": 16,
     "metadata": {},
     "output_type": "execute_result"
    }
   ],
   "source": [
    "e"
   ]
  },
  {
   "cell_type": "markdown",
   "id": "8e43c1e3",
   "metadata": {},
   "source": [
    "## 📚 Dictionaries in Python\n",
    "\n",
    "A **dictionary** stores data as `key: value` pairs.  \n",
    "This is extremely useful in storing structured data — like scientific metadata.\n"
   ]
  },
  {
   "cell_type": "code",
   "execution_count": 34,
   "id": "4ccb5da8",
   "metadata": {},
   "outputs": [
    {
     "name": "stdout",
     "output_type": "stream",
     "text": [
      "{'Author': 'Jaglul Hasan', 'Submission_Date': '130225', 'Title': 'Superconducting diode efficiency from singlet-triplet mixing in disordered systems'}\n"
     ]
    }
   ],
   "source": [
    "# Creating a dictionary of metadata from an arXiv paper\n",
    "arXiv_data = {\n",
    "    \"Author\": 'Jaglul Hasan',\n",
    "    \"Submission_Date\": '130225',\n",
    "    \"Title\": 'Superconducting diode efficiency from singlet-triplet mixing in disordered systems'\n",
    "}\n",
    "\n",
    "# Print the entire dictionary\n",
    "print(arXiv_data)\n"
   ]
  },
  {
   "cell_type": "code",
   "execution_count": 35,
   "id": "3bb32dfa",
   "metadata": {},
   "outputs": [
    {
     "name": "stdout",
     "output_type": "stream",
     "text": [
      "Jaglul Hasan\n",
      "130225\n",
      "Superconducting diode efficiency from singlet-triplet mixing in disordered systems\n"
     ]
    }
   ],
   "source": [
    "# Accessing values using keys\n",
    "print(arXiv_data['Author'])\n",
    "print(arXiv_data['Submission_Date'])\n",
    "print(arXiv_data['Title'])\n"
   ]
  },
  {
   "cell_type": "code",
   "execution_count": 36,
   "id": "460485d0",
   "metadata": {},
   "outputs": [
    {
     "name": "stdout",
     "output_type": "stream",
     "text": [
      "{'Author': 'Jaglul Hasan', 'Submission_Date': '130225', 'Title': 'Superconducting diode efficiency from singlet-triplet mixing in disordered systems', 'Cite_as': 'arXiv:2502.09421', 'Number_of_co_authors': 3}\n",
      "Number of key-value pairs: 5\n"
     ]
    }
   ],
   "source": [
    "# Adding new key-value pairs\n",
    "arXiv_data['Cite_as'] = 'arXiv:2502.09421'\n",
    "arXiv_data['Number_of_co_authors'] = 3\n",
    "\n",
    "# Final dictionary\n",
    "print(arXiv_data)\n",
    "print(\"Number of key-value pairs:\", len(arXiv_data))\n"
   ]
  },
  {
   "cell_type": "markdown",
   "id": "fec18644",
   "metadata": {},
   "source": [
    "---\n",
    "\n",
    "## ✅ Week 1 Summary\n",
    "\n",
    "As part of **Week-1**, we have covered:\n",
    "\n",
    "🔹 Setting up a Python Virtual Environment  \n",
    "🔹 Understanding **variables** and **basic data types**:  \n",
    "  • `int`, `float`, `str`, `bool`  \n",
    "  • Collection types like `list`, `tuple`, `set`, and `dict`  \n",
    "🔹 Some handy Python tricks and notebook tips\n",
    "\n",
    "---\n",
    "\n",
    "In the **next notebook (Week-2)**, we will dive into:\n",
    "\n",
    "🔁 Loops (`for`, `while`)  \n",
    "🔀 Conditionals (`if`, `elif`, `else`)  \n",
    "🧠 Writing functions  \n",
    "🧼 Best coding practices using **PEP-8**  \n",
    "⚡ Optimizing functions for better performance\n",
    "\n",
    "---\n",
    "\n",
    "📢 **Disclaimer**  \n",
    "This notebook was prepared by **Suhas Adiga**.  \n",
    "Language refined and ✨ *emojified* ✨ with the help of **ChatGPT-4**, to make learning more fun and attention-grabbing! 🎯\n",
    "\n",
    "---\n"
   ]
  },
  {
   "cell_type": "markdown",
   "id": "fc1aa61d",
   "metadata": {},
   "source": [
    "\n",
    "## 📚 Some Useful Resources to Learn Python Further\n",
    "\n",
    "1️⃣ [**Tech With Tim – Python in 75 Minutes** (YouTube)](https://www.youtube.com/watch?v=VchuKL44s6E)  \n",
    "A beginner-friendly crash course that covers the basics of Python in just over an hour.\n",
    "\n",
    "2️⃣ **Computational Physics** – *by Mark Newman*  \n",
    "📖 A solid reference book, especially for those interested in applying Python to physics problems and simulations.  \n",
    "*Published on 7 November 2012 – available in paperback.*\n",
    "\n"
   ]
  }
 ],
 "metadata": {
  "kernelspec": {
   "display_name": "Python 3 (ipykernel)",
   "language": "python",
   "name": "python3"
  },
  "language_info": {
   "codemirror_mode": {
    "name": "ipython",
    "version": 3
   },
   "file_extension": ".py",
   "mimetype": "text/x-python",
   "name": "python",
   "nbconvert_exporter": "python",
   "pygments_lexer": "ipython3",
   "version": "3.10.17"
  }
 },
 "nbformat": 4,
 "nbformat_minor": 5
}
