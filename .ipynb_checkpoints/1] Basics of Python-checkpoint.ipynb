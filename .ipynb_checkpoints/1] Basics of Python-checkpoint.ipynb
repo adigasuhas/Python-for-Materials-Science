{
 "cells": [
  {
   "cell_type": "markdown",
   "id": "29fefbeb",
   "metadata": {},
   "source": [
    "# Basics of Python"
   ]
  },
  {
   "attachments": {},
   "cell_type": "markdown",
   "id": "041a2637",
   "metadata": {},
   "source": [
    "Created by : @adigasuhas (https://github.com/adigasuhas)"
   ]
  },
  {
   "cell_type": "markdown",
   "id": "8f35a6a7",
   "metadata": {},
   "source": [
    "Contact me : suhasadiga@jncasr.ac.in"
   ]
  },
  {
   "cell_type": "markdown",
   "id": "d4ecff7c",
   "metadata": {},
   "source": [
    "In this notebook, we will cover on: \n",
    "   * Setting up a virtual environment \n",
    "   * Understanding variables and data types\n",
    "   * Using loops and conditionals\n",
    "   * Writing functions and defining classes"
   ]
  },
  {
   "cell_type": "markdown",
   "id": "dc622ba8",
   "metadata": {},
   "source": [
    "## Setting up a Virtual Environment "
   ]
  },
  {
   "cell_type": "code",
   "execution_count": 16,
   "id": "1c1aa02f",
   "metadata": {},
   "outputs": [
    {
     "data": {
      "text/latex": [
       "$\\frac{x}{2}$\n"
      ],
      "text/plain": [
       "<IPython.core.display.Latex object>"
      ]
     },
     "metadata": {},
     "output_type": "display_data"
    }
   ],
   "source": [
    "%%latex\n",
    "$\\frac{x}{2}$"
   ]
  },
  {
   "cell_type": "code",
   "execution_count": null,
   "id": "5c1b9c0e",
   "metadata": {},
   "outputs": [],
   "source": []
  },
  {
   "cell_type": "code",
   "execution_count": null,
   "id": "09e68107",
   "metadata": {},
   "outputs": [],
   "source": []
  }
 ],
 "metadata": {
  "kernelspec": {
   "display_name": "Python 3 (ipykernel)",
   "language": "python",
   "name": "python3"
  },
  "language_info": {
   "codemirror_mode": {
    "name": "ipython",
    "version": 3
   },
   "file_extension": ".py",
   "mimetype": "text/x-python",
   "name": "python",
   "nbconvert_exporter": "python",
   "pygments_lexer": "ipython3",
   "version": "3.10.16"
  }
 },
 "nbformat": 4,
 "nbformat_minor": 5
}
