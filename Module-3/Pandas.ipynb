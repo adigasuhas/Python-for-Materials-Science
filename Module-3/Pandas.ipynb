{
 "cells": [
  {
   "cell_type": "markdown",
   "id": "87a78cd6",
   "metadata": {},
   "source": [
    "# 🐼 Pandas in Python\n",
    "\n",
    "**Created by**: [@adigasuhas](https://github.com/adigasuhas)  \n",
    "**Contact**: suhasadiga@jncasr.ac.in\n",
    "\n",
    "---\n",
    "\n",
    "Welcome! 🙌  \n",
    "This notebook is part of the **Python4MS** tutorial series, carefully crafted to teach **Python from scratch** — in a simple, clear, and beginner-friendly way.  \n",
    "We’ll be using examples especially relevant to **Materials Science 🔬** to make learning both practical and engaging.\n",
    "\n",
    "Python is one of the most popular and versatile programming languages today. Whether you're:\n",
    "\n",
    "- analyzing data 📊\n",
    "- automating repetitive tasks 🔁\n",
    "- or running scientific simulations 🧮\n",
    "\n",
    "— Python is becoming an essential tool in modern research.\n",
    "\n",
    "---\n",
    "\n",
    "## 📘 What You'll Learn in This Notebook\n",
    "\n",
    "In this notebook, you'll explore:\n",
    "\n",
    "- ✨ **How to perform data manipulation and analysis using Pandas**\n",
    "- 📊 Learn how to create a DataFrame and analyze data relevant for machine learning & materials science applications.\n",
    "\n",
    "---\n",
    "\n",
    "> 📝 **Note**: This tutorial assumes **no prior programming experience**.  \n",
    "> Each concept is introduced step-by-step with simple explanations, real-world analogies, and hands-on examples.\n",
    "\n",
    "Let's get started! 🚀\n"
   ]
  },
  {
   "cell_type": "markdown",
   "id": "fabc2b52",
   "metadata": {},
   "source": [
    "## 🐼 Pandas — Your Data Analysis Superpower!\n",
    "\n",
    "**Pandas** is a powerful software library written for the Python programming language, specifically designed for **data manipulation and analysis**.  \n",
    "It offers versatile data structures and rich operations for working with:\n",
    "\n",
    "- numerical tables 📊\n",
    "- labeled data 📋\n",
    "- time series data ⏳\n",
    "\n",
    "The name **Pandas** is derived from *\"panel data\"*, an econometrics term referring to datasets that include observations over multiple time periods for the same individuals — and also serves as a playful reference to **Python Data Analysis**. 🐼\n",
    "\n",
    "---\n",
    "\n",
    "### 🧑‍💻 A Brief History\n",
    "\n",
    "- 📅 **Wes McKinney** started developing what would later become Pandas during his time at AQR Capital (2007–2010).\n",
    "- Pandas introduced into Python many features for working with **DataFrames** — a concept that was already well-established in the R programming language.\n",
    "- Pandas is built on top of another core library called **NumPy**, which provides high-performance array operations.\n",
    "\n",
    "---\n",
    "\n",
    "✨ In short:  \n",
    "Pandas makes it **ridiculously easy** to work with tabular data — something we’ll do a lot in **Materials Science** and **Machine Learning**! 🔬🤖\n",
    "\n"
   ]
  },
  {
   "cell_type": "markdown",
   "id": "4e0afe2b",
   "metadata": {},
   "source": [
    "### 📦 Installing Pandas\n",
    "\n",
    "Let's first install the **Pandas** library (if it's not already installed).\n"
   ]
  },
  {
   "cell_type": "code",
   "execution_count": 1,
   "id": "12839489",
   "metadata": {},
   "outputs": [],
   "source": [
    "# Installing the latest version of Pandas\n",
    "!pip install pandas -q"
   ]
  },
  {
   "cell_type": "code",
   "execution_count": 2,
   "id": "44b14601",
   "metadata": {},
   "outputs": [],
   "source": [
    "# 📦 Importing necessary libraries\n",
    "\n",
    "import pandas as pd  # Pandas for data manipulation\n",
    "import numpy as np    # NumPy for numerical operations"
   ]
  },
  {
   "cell_type": "markdown",
   "id": "9b38b1e4",
   "metadata": {},
   "source": [
    "### 🏷️ Core Data Structures in Pandas\n",
    "\n",
    "Pandas offers two primary classes for handling data:\n",
    "\n",
    "1️⃣ **Series**  \n",
    "A **one-dimensional** labeled array that can hold data of any type — numbers, strings, Python objects, etc.\n",
    "\n",
    "2️⃣ **DataFrame**  \n",
    "A **two-dimensional** labeled data structure that holds data in rows and columns — very similar to a spreadsheet or SQL table.\n",
    "\n",
    "📊 These two classes form the foundation of almost everything you'll do with Pandas!\n"
   ]
  },
  {
   "cell_type": "markdown",
   "id": "37e48596",
   "metadata": {},
   "source": [
    "## 🛠️ Creating a Pandas Series\n",
    "\n",
    "Let's create a simple **Series** containing the first 8 elements from the periodic table. 🔬"
   ]
  },
  {
   "cell_type": "code",
   "execution_count": 3,
   "id": "f3160787",
   "metadata": {},
   "outputs": [
    {
     "data": {
      "text/plain": [
       "0     H\n",
       "1    He\n",
       "2    Li\n",
       "3    Be\n",
       "4     B\n",
       "5     C\n",
       "6     N\n",
       "7     O\n",
       "dtype: object"
      ]
     },
     "execution_count": 3,
     "metadata": {},
     "output_type": "execute_result"
    }
   ],
   "source": [
    "# Creating a Series of first 8 elements\n",
    "elements_series = pd.Series(['H', 'He', 'Li', 'Be', 'B', 'C', 'N', 'O'])\n",
    "\n",
    "# Display the Series\n",
    "elements_series\n"
   ]
  },
  {
   "cell_type": "markdown",
   "id": "cfadb118",
   "metadata": {},
   "source": [
    "## 🧪 Creating a DataFrame of First 8 Elements with Their Atomic Number and Mass"
   ]
  },
  {
   "cell_type": "code",
   "execution_count": 4,
   "id": "93c9081f",
   "metadata": {},
   "outputs": [
    {
     "name": "stdout",
     "output_type": "stream",
     "text": [
      "Dimensions of periodic_table_array: (3, 8)\n"
     ]
    },
    {
     "data": {
      "text/plain": [
       "array([['H', '1', '1.008'],\n",
       "       ['He', '2', '4.003'],\n",
       "       ['Li', '3', '7.0'],\n",
       "       ['Be', '4', '9.012'],\n",
       "       ['B', '5', '10.81'],\n",
       "       ['C', '6', '12.011'],\n",
       "       ['N', '7', '14.077'],\n",
       "       ['O', '8', '15.999']], dtype='<U32')"
      ]
     },
     "execution_count": 4,
     "metadata": {},
     "output_type": "execute_result"
    }
   ],
   "source": [
    "# Defining element properties\n",
    "elements = ['H', 'He', 'Li', 'Be', 'B', 'C', 'N', 'O']\n",
    "atomic_numbers = [1, 2, 3, 4, 5, 6, 7, 8]\n",
    "atomic_masses = [1.008, 4.003, 7.000, 9.012, 10.81, 12.011, 14.077, 15.999]\n",
    "\n",
    "# Creating a NumPy array\n",
    "periodic_table_array = np.array([elements, atomic_numbers, atomic_masses])\n",
    "\n",
    "# Checking dimensions\n",
    "print(f\"Dimensions of periodic_table_array: {periodic_table_array.shape}\")  \n",
    "# Output: (3, 8) => 3 rows (attributes), 8 columns (elements)\n",
    "\n",
    "# Transposing to switch rows to columns: (8, 3)\n",
    "periodic_table_array.T\n"
   ]
  },
  {
   "cell_type": "markdown",
   "id": "6d301777",
   "metadata": {},
   "source": [
    "📌 **Note:**  \n",
    "We apply `.T` (transpose) because we want **rows as elements** and **columns as attributes** (Element, Atomic Number, Atomic Mass)."
   ]
  },
  {
   "cell_type": "markdown",
   "id": "d854eac9",
   "metadata": {},
   "source": [
    "## 📊 Creating a DataFrame from the Periodic Table Array"
   ]
  },
  {
   "cell_type": "code",
   "execution_count": 5,
   "id": "d520d574",
   "metadata": {},
   "outputs": [
    {
     "data": {
      "text/html": [
       "<div>\n",
       "<style scoped>\n",
       "    .dataframe tbody tr th:only-of-type {\n",
       "        vertical-align: middle;\n",
       "    }\n",
       "\n",
       "    .dataframe tbody tr th {\n",
       "        vertical-align: top;\n",
       "    }\n",
       "\n",
       "    .dataframe thead th {\n",
       "        text-align: right;\n",
       "    }\n",
       "</style>\n",
       "<table border=\"1\" class=\"dataframe\">\n",
       "  <thead>\n",
       "    <tr style=\"text-align: right;\">\n",
       "      <th></th>\n",
       "      <th>Element</th>\n",
       "      <th>Atomic Number</th>\n",
       "      <th>Atomic Mass</th>\n",
       "    </tr>\n",
       "  </thead>\n",
       "  <tbody>\n",
       "    <tr>\n",
       "      <th>0</th>\n",
       "      <td>H</td>\n",
       "      <td>1</td>\n",
       "      <td>1.008</td>\n",
       "    </tr>\n",
       "    <tr>\n",
       "      <th>1</th>\n",
       "      <td>He</td>\n",
       "      <td>2</td>\n",
       "      <td>4.003</td>\n",
       "    </tr>\n",
       "    <tr>\n",
       "      <th>2</th>\n",
       "      <td>Li</td>\n",
       "      <td>3</td>\n",
       "      <td>7.0</td>\n",
       "    </tr>\n",
       "    <tr>\n",
       "      <th>3</th>\n",
       "      <td>Be</td>\n",
       "      <td>4</td>\n",
       "      <td>9.012</td>\n",
       "    </tr>\n",
       "    <tr>\n",
       "      <th>4</th>\n",
       "      <td>B</td>\n",
       "      <td>5</td>\n",
       "      <td>10.81</td>\n",
       "    </tr>\n",
       "    <tr>\n",
       "      <th>5</th>\n",
       "      <td>C</td>\n",
       "      <td>6</td>\n",
       "      <td>12.011</td>\n",
       "    </tr>\n",
       "    <tr>\n",
       "      <th>6</th>\n",
       "      <td>N</td>\n",
       "      <td>7</td>\n",
       "      <td>14.077</td>\n",
       "    </tr>\n",
       "    <tr>\n",
       "      <th>7</th>\n",
       "      <td>O</td>\n",
       "      <td>8</td>\n",
       "      <td>15.999</td>\n",
       "    </tr>\n",
       "  </tbody>\n",
       "</table>\n",
       "</div>"
      ],
      "text/plain": [
       "  Element Atomic Number Atomic Mass\n",
       "0       H             1       1.008\n",
       "1      He             2       4.003\n",
       "2      Li             3         7.0\n",
       "3      Be             4       9.012\n",
       "4       B             5       10.81\n",
       "5       C             6      12.011\n",
       "6       N             7      14.077\n",
       "7       O             8      15.999"
      ]
     },
     "execution_count": 5,
     "metadata": {},
     "output_type": "execute_result"
    }
   ],
   "source": [
    "# Creating a DataFrame using the transposed periodic table array\n",
    "periodic_table_df = pd.DataFrame(periodic_table_array.T, columns=['Element', 'Atomic Number', 'Atomic Mass'])\n",
    "\n",
    "# Display the DataFrame\n",
    "periodic_table_df"
   ]
  },
  {
   "cell_type": "markdown",
   "id": "b6e3da4f",
   "metadata": {},
   "source": [
    "## 👀 Viewing the DataFrame\n",
    "\n",
    "We can quickly peek into the data using the `.head(n)` function, which displays the first `n` rows of the DataFrame.\n"
   ]
  },
  {
   "cell_type": "code",
   "execution_count": 6,
   "id": "2d26c7e3",
   "metadata": {},
   "outputs": [
    {
     "data": {
      "text/html": [
       "<div>\n",
       "<style scoped>\n",
       "    .dataframe tbody tr th:only-of-type {\n",
       "        vertical-align: middle;\n",
       "    }\n",
       "\n",
       "    .dataframe tbody tr th {\n",
       "        vertical-align: top;\n",
       "    }\n",
       "\n",
       "    .dataframe thead th {\n",
       "        text-align: right;\n",
       "    }\n",
       "</style>\n",
       "<table border=\"1\" class=\"dataframe\">\n",
       "  <thead>\n",
       "    <tr style=\"text-align: right;\">\n",
       "      <th></th>\n",
       "      <th>Element</th>\n",
       "      <th>Atomic Number</th>\n",
       "      <th>Atomic Mass</th>\n",
       "    </tr>\n",
       "  </thead>\n",
       "  <tbody>\n",
       "    <tr>\n",
       "      <th>0</th>\n",
       "      <td>H</td>\n",
       "      <td>1</td>\n",
       "      <td>1.008</td>\n",
       "    </tr>\n",
       "    <tr>\n",
       "      <th>1</th>\n",
       "      <td>He</td>\n",
       "      <td>2</td>\n",
       "      <td>4.003</td>\n",
       "    </tr>\n",
       "    <tr>\n",
       "      <th>2</th>\n",
       "      <td>Li</td>\n",
       "      <td>3</td>\n",
       "      <td>7.0</td>\n",
       "    </tr>\n",
       "    <tr>\n",
       "      <th>3</th>\n",
       "      <td>Be</td>\n",
       "      <td>4</td>\n",
       "      <td>9.012</td>\n",
       "    </tr>\n",
       "    <tr>\n",
       "      <th>4</th>\n",
       "      <td>B</td>\n",
       "      <td>5</td>\n",
       "      <td>10.81</td>\n",
       "    </tr>\n",
       "    <tr>\n",
       "      <th>5</th>\n",
       "      <td>C</td>\n",
       "      <td>6</td>\n",
       "      <td>12.011</td>\n",
       "    </tr>\n",
       "  </tbody>\n",
       "</table>\n",
       "</div>"
      ],
      "text/plain": [
       "  Element Atomic Number Atomic Mass\n",
       "0       H             1       1.008\n",
       "1      He             2       4.003\n",
       "2      Li             3         7.0\n",
       "3      Be             4       9.012\n",
       "4       B             5       10.81\n",
       "5       C             6      12.011"
      ]
     },
     "execution_count": 6,
     "metadata": {},
     "output_type": "execute_result"
    }
   ],
   "source": [
    "# Displaying the first 6 rows of the DataFrame\n",
    "periodic_table_df.head(6)"
   ]
  },
  {
   "cell_type": "code",
   "execution_count": 7,
   "id": "0d3d2769",
   "metadata": {},
   "outputs": [
    {
     "data": {
      "text/html": [
       "<div>\n",
       "<style scoped>\n",
       "    .dataframe tbody tr th:only-of-type {\n",
       "        vertical-align: middle;\n",
       "    }\n",
       "\n",
       "    .dataframe tbody tr th {\n",
       "        vertical-align: top;\n",
       "    }\n",
       "\n",
       "    .dataframe thead th {\n",
       "        text-align: right;\n",
       "    }\n",
       "</style>\n",
       "<table border=\"1\" class=\"dataframe\">\n",
       "  <thead>\n",
       "    <tr style=\"text-align: right;\">\n",
       "      <th></th>\n",
       "      <th>Element</th>\n",
       "      <th>Atomic Number</th>\n",
       "      <th>Atomic Mass</th>\n",
       "    </tr>\n",
       "  </thead>\n",
       "  <tbody>\n",
       "    <tr>\n",
       "      <th>6</th>\n",
       "      <td>N</td>\n",
       "      <td>7</td>\n",
       "      <td>14.077</td>\n",
       "    </tr>\n",
       "    <tr>\n",
       "      <th>7</th>\n",
       "      <td>O</td>\n",
       "      <td>8</td>\n",
       "      <td>15.999</td>\n",
       "    </tr>\n",
       "  </tbody>\n",
       "</table>\n",
       "</div>"
      ],
      "text/plain": [
       "  Element Atomic Number Atomic Mass\n",
       "6       N             7      14.077\n",
       "7       O             8      15.999"
      ]
     },
     "execution_count": 7,
     "metadata": {},
     "output_type": "execute_result"
    }
   ],
   "source": [
    "# Using tail(n) displays last 'n' entries in the dataframe\n",
    "\n",
    "periodic_table_df.tail(2)"
   ]
  },
  {
   "cell_type": "code",
   "execution_count": 8,
   "id": "8e55a5e5",
   "metadata": {},
   "outputs": [
    {
     "data": {
      "text/html": [
       "<div>\n",
       "<style scoped>\n",
       "    .dataframe tbody tr th:only-of-type {\n",
       "        vertical-align: middle;\n",
       "    }\n",
       "\n",
       "    .dataframe tbody tr th {\n",
       "        vertical-align: top;\n",
       "    }\n",
       "\n",
       "    .dataframe thead th {\n",
       "        text-align: right;\n",
       "    }\n",
       "</style>\n",
       "<table border=\"1\" class=\"dataframe\">\n",
       "  <thead>\n",
       "    <tr style=\"text-align: right;\">\n",
       "      <th></th>\n",
       "      <th>Element</th>\n",
       "      <th>Atomic Number</th>\n",
       "      <th>Atomic Mass</th>\n",
       "    </tr>\n",
       "  </thead>\n",
       "  <tbody>\n",
       "    <tr>\n",
       "      <th>5</th>\n",
       "      <td>C</td>\n",
       "      <td>6</td>\n",
       "      <td>12.011</td>\n",
       "    </tr>\n",
       "    <tr>\n",
       "      <th>6</th>\n",
       "      <td>N</td>\n",
       "      <td>7</td>\n",
       "      <td>14.077</td>\n",
       "    </tr>\n",
       "    <tr>\n",
       "      <th>3</th>\n",
       "      <td>Be</td>\n",
       "      <td>4</td>\n",
       "      <td>9.012</td>\n",
       "    </tr>\n",
       "  </tbody>\n",
       "</table>\n",
       "</div>"
      ],
      "text/plain": [
       "  Element Atomic Number Atomic Mass\n",
       "5       C             6      12.011\n",
       "6       N             7      14.077\n",
       "3      Be             4       9.012"
      ]
     },
     "execution_count": 8,
     "metadata": {},
     "output_type": "execute_result"
    }
   ],
   "source": [
    "# Using sample(n) displays any n entries in the dataframe\n",
    "\n",
    "periodic_table_df.sample(3)"
   ]
  },
  {
   "cell_type": "code",
   "execution_count": 9,
   "id": "223c44e4",
   "metadata": {},
   "outputs": [
    {
     "name": "stdout",
     "output_type": "stream",
     "text": [
      "The column names of the DataFrame are: Index(['Element', 'Atomic Number', 'Atomic Mass'], dtype='object')\n",
      "The index of the DataFrame is: RangeIndex(start=0, stop=8, step=1)\n"
     ]
    }
   ],
   "source": [
    "# Printing column names and index of the DataFrame\n",
    "print(f'The column names of the DataFrame are: {periodic_table_df.columns}')\n",
    "print(f'The index of the DataFrame is: {periodic_table_df.index}')\n"
   ]
  },
  {
   "cell_type": "code",
   "execution_count": 10,
   "id": "2133f12b",
   "metadata": {},
   "outputs": [
    {
     "data": {
      "text/plain": [
       "Element          object\n",
       "Atomic Number    object\n",
       "Atomic Mass      object\n",
       "dtype: object"
      ]
     },
     "execution_count": 10,
     "metadata": {},
     "output_type": "execute_result"
    }
   ],
   "source": [
    "# Checking the data types of each column\n",
    "periodic_table_df.dtypes"
   ]
  },
  {
   "cell_type": "markdown",
   "id": "8551f220",
   "metadata": {},
   "source": [
    "📌 **Note:**  \n",
    "Currently, Pandas identifies all columns as type `object` (because the data was created from a NumPy array of mixed types).\n",
    "\n",
    "🛠️ Since `Atomic Number` and `Atomic Mass` are numerical values, we’ll convert them into proper numeric types using `astype(float)` to allow mathematical operations.\n"
   ]
  },
  {
   "cell_type": "markdown",
   "id": "1c7cecdf",
   "metadata": {},
   "source": [
    "## 🔧 Converting Columns to Numeric Types"
   ]
  },
  {
   "cell_type": "code",
   "execution_count": 11,
   "id": "0a74a005",
   "metadata": {},
   "outputs": [
    {
     "data": {
      "text/plain": [
       "Atomic Number    float64\n",
       "Atomic Mass      float64\n",
       "dtype: object"
      ]
     },
     "execution_count": 11,
     "metadata": {},
     "output_type": "execute_result"
    }
   ],
   "source": [
    "# Selecting only the numeric columns and converting them to float\n",
    "periodic_table_df_stat = periodic_table_df[['Atomic Number', 'Atomic Mass']].astype(float)\n",
    "\n",
    "# Verifying the data types after conversion\n",
    "periodic_table_df_stat.dtypes"
   ]
  },
  {
   "cell_type": "markdown",
   "id": "5e66ba07",
   "metadata": {},
   "source": [
    "✅ Now, both **Atomic Number** and **Atomic Mass** are correctly stored as `float64`, which allows us to perform numerical operations like statistics, sorting, filtering, etc.\n"
   ]
  },
  {
   "cell_type": "markdown",
   "id": "59aca530",
   "metadata": {},
   "source": [
    "## 📊 Statistical Summary of the DataFrame"
   ]
  },
  {
   "cell_type": "code",
   "execution_count": 12,
   "id": "7af4e72c",
   "metadata": {},
   "outputs": [
    {
     "data": {
      "text/html": [
       "<div>\n",
       "<style scoped>\n",
       "    .dataframe tbody tr th:only-of-type {\n",
       "        vertical-align: middle;\n",
       "    }\n",
       "\n",
       "    .dataframe tbody tr th {\n",
       "        vertical-align: top;\n",
       "    }\n",
       "\n",
       "    .dataframe thead th {\n",
       "        text-align: right;\n",
       "    }\n",
       "</style>\n",
       "<table border=\"1\" class=\"dataframe\">\n",
       "  <thead>\n",
       "    <tr style=\"text-align: right;\">\n",
       "      <th></th>\n",
       "      <th>Atomic Number</th>\n",
       "      <th>Atomic Mass</th>\n",
       "    </tr>\n",
       "  </thead>\n",
       "  <tbody>\n",
       "    <tr>\n",
       "      <th>count</th>\n",
       "      <td>8.00000</td>\n",
       "      <td>8.000000</td>\n",
       "    </tr>\n",
       "    <tr>\n",
       "      <th>mean</th>\n",
       "      <td>4.50000</td>\n",
       "      <td>9.240000</td>\n",
       "    </tr>\n",
       "    <tr>\n",
       "      <th>std</th>\n",
       "      <td>2.44949</td>\n",
       "      <td>5.063674</td>\n",
       "    </tr>\n",
       "    <tr>\n",
       "      <th>min</th>\n",
       "      <td>1.00000</td>\n",
       "      <td>1.008000</td>\n",
       "    </tr>\n",
       "    <tr>\n",
       "      <th>25%</th>\n",
       "      <td>2.75000</td>\n",
       "      <td>6.250750</td>\n",
       "    </tr>\n",
       "    <tr>\n",
       "      <th>50%</th>\n",
       "      <td>4.50000</td>\n",
       "      <td>9.911000</td>\n",
       "    </tr>\n",
       "    <tr>\n",
       "      <th>75%</th>\n",
       "      <td>6.25000</td>\n",
       "      <td>12.527500</td>\n",
       "    </tr>\n",
       "    <tr>\n",
       "      <th>max</th>\n",
       "      <td>8.00000</td>\n",
       "      <td>15.999000</td>\n",
       "    </tr>\n",
       "  </tbody>\n",
       "</table>\n",
       "</div>"
      ],
      "text/plain": [
       "       Atomic Number  Atomic Mass\n",
       "count        8.00000     8.000000\n",
       "mean         4.50000     9.240000\n",
       "std          2.44949     5.063674\n",
       "min          1.00000     1.008000\n",
       "25%          2.75000     6.250750\n",
       "50%          4.50000     9.911000\n",
       "75%          6.25000    12.527500\n",
       "max          8.00000    15.999000"
      ]
     },
     "execution_count": 12,
     "metadata": {},
     "output_type": "execute_result"
    }
   ],
   "source": [
    "# Generating summary statistics for Atomic Number and Atomic Mass\n",
    "periodic_table_df_stat.describe()"
   ]
  },
  {
   "cell_type": "markdown",
   "id": "26579850",
   "metadata": {},
   "source": [
    "📌 **Note:**  \n",
    "The `.describe()` function gives us a quick statistical overview of our numeric columns:\n",
    "\n",
    "- `count` ➔ total number of entries  \n",
    "- `mean` ➔ average value  \n",
    "- `std` ➔ standard deviation (spread of data)  \n",
    "- `min` ➔ minimum value  \n",
    "- `25%`, `50%`, `75%` ➔ quartiles  \n",
    "- `max` ➔ maximum value\n",
    "\n",
    "Super useful for a quick sense-check of your data! ✅\n"
   ]
  },
  {
   "cell_type": "markdown",
   "id": "691ad5f8",
   "metadata": {},
   "source": [
    "## 🔽 Sorting the DataFrame in Descending Order by Atomic Number"
   ]
  },
  {
   "cell_type": "code",
   "execution_count": 13,
   "id": "3e474e8a",
   "metadata": {},
   "outputs": [
    {
     "data": {
      "text/html": [
       "<div>\n",
       "<style scoped>\n",
       "    .dataframe tbody tr th:only-of-type {\n",
       "        vertical-align: middle;\n",
       "    }\n",
       "\n",
       "    .dataframe tbody tr th {\n",
       "        vertical-align: top;\n",
       "    }\n",
       "\n",
       "    .dataframe thead th {\n",
       "        text-align: right;\n",
       "    }\n",
       "</style>\n",
       "<table border=\"1\" class=\"dataframe\">\n",
       "  <thead>\n",
       "    <tr style=\"text-align: right;\">\n",
       "      <th></th>\n",
       "      <th>Element</th>\n",
       "      <th>Atomic Number</th>\n",
       "      <th>Atomic Mass</th>\n",
       "    </tr>\n",
       "  </thead>\n",
       "  <tbody>\n",
       "    <tr>\n",
       "      <th>7</th>\n",
       "      <td>O</td>\n",
       "      <td>8</td>\n",
       "      <td>15.999</td>\n",
       "    </tr>\n",
       "    <tr>\n",
       "      <th>6</th>\n",
       "      <td>N</td>\n",
       "      <td>7</td>\n",
       "      <td>14.077</td>\n",
       "    </tr>\n",
       "    <tr>\n",
       "      <th>5</th>\n",
       "      <td>C</td>\n",
       "      <td>6</td>\n",
       "      <td>12.011</td>\n",
       "    </tr>\n",
       "    <tr>\n",
       "      <th>4</th>\n",
       "      <td>B</td>\n",
       "      <td>5</td>\n",
       "      <td>10.81</td>\n",
       "    </tr>\n",
       "    <tr>\n",
       "      <th>3</th>\n",
       "      <td>Be</td>\n",
       "      <td>4</td>\n",
       "      <td>9.012</td>\n",
       "    </tr>\n",
       "    <tr>\n",
       "      <th>2</th>\n",
       "      <td>Li</td>\n",
       "      <td>3</td>\n",
       "      <td>7.0</td>\n",
       "    </tr>\n",
       "    <tr>\n",
       "      <th>1</th>\n",
       "      <td>He</td>\n",
       "      <td>2</td>\n",
       "      <td>4.003</td>\n",
       "    </tr>\n",
       "    <tr>\n",
       "      <th>0</th>\n",
       "      <td>H</td>\n",
       "      <td>1</td>\n",
       "      <td>1.008</td>\n",
       "    </tr>\n",
       "  </tbody>\n",
       "</table>\n",
       "</div>"
      ],
      "text/plain": [
       "  Element Atomic Number Atomic Mass\n",
       "7       O             8      15.999\n",
       "6       N             7      14.077\n",
       "5       C             6      12.011\n",
       "4       B             5       10.81\n",
       "3      Be             4       9.012\n",
       "2      Li             3         7.0\n",
       "1      He             2       4.003\n",
       "0       H             1       1.008"
      ]
     },
     "execution_count": 13,
     "metadata": {},
     "output_type": "execute_result"
    }
   ],
   "source": [
    "# Sorting the DataFrame based on 'Atomic Number' in descending order\n",
    "periodic_table_df_sort = periodic_table_df.sort_values(by='Atomic Number', ascending=False)\n",
    "\n",
    "# Display the sorted DataFrame\n",
    "periodic_table_df_sort\n"
   ]
  },
  {
   "cell_type": "markdown",
   "id": "83d3bdd5",
   "metadata": {},
   "source": [
    "📌 **Note:**  \n",
    "- `sort_values()` helps you sort your DataFrame by any column.\n",
    "- Setting `ascending=False` sorts it in descending order (largest value first).\n"
   ]
  },
  {
   "cell_type": "markdown",
   "id": "9e729d28",
   "metadata": {},
   "source": [
    "## 🔎 Locating Entries in the DataFrame\n",
    "\n",
    "We can use **`loc`** and **`iloc`** to access specific entries in the DataFrame:\n",
    "\n",
    "- 📌 **`loc[row_label, column_label]`**  \n",
    "  ➔ Used when you want to select data by **labels** (i.e., row index name & column name).\n",
    "\n",
    "- 📌 **`iloc[row_index, column_index]`**  \n",
    "  ➔ Used when you want to select data by **position** (i.e., integer-based row & column positions).\n",
    "\n",
    "✅ In both cases, we need two inputs:  \n",
    "- The row (label or index)\n",
    "- The column (label or index)"
   ]
  },
  {
   "cell_type": "code",
   "execution_count": 14,
   "id": "eaebb5bf",
   "metadata": {},
   "outputs": [
    {
     "data": {
      "text/html": [
       "<div>\n",
       "<style scoped>\n",
       "    .dataframe tbody tr th:only-of-type {\n",
       "        vertical-align: middle;\n",
       "    }\n",
       "\n",
       "    .dataframe tbody tr th {\n",
       "        vertical-align: top;\n",
       "    }\n",
       "\n",
       "    .dataframe thead th {\n",
       "        text-align: right;\n",
       "    }\n",
       "</style>\n",
       "<table border=\"1\" class=\"dataframe\">\n",
       "  <thead>\n",
       "    <tr style=\"text-align: right;\">\n",
       "      <th></th>\n",
       "      <th>band_gap</th>\n",
       "      <th>space_group_number</th>\n",
       "    </tr>\n",
       "  </thead>\n",
       "  <tbody>\n",
       "    <tr>\n",
       "      <th>NaCl</th>\n",
       "      <td>5.00</td>\n",
       "      <td>225.0</td>\n",
       "    </tr>\n",
       "    <tr>\n",
       "      <th>MoS2</th>\n",
       "      <td>1.46</td>\n",
       "      <td>194.0</td>\n",
       "    </tr>\n",
       "    <tr>\n",
       "      <th>AgF2</th>\n",
       "      <td>0.00</td>\n",
       "      <td>14.0</td>\n",
       "    </tr>\n",
       "    <tr>\n",
       "      <th>Ag2Te</th>\n",
       "      <td>0.00</td>\n",
       "      <td>14.0</td>\n",
       "    </tr>\n",
       "    <tr>\n",
       "      <th>NbN</th>\n",
       "      <td>NaN</td>\n",
       "      <td>225.0</td>\n",
       "    </tr>\n",
       "    <tr>\n",
       "      <th>Nb3Sn</th>\n",
       "      <td>0.00</td>\n",
       "      <td>NaN</td>\n",
       "    </tr>\n",
       "  </tbody>\n",
       "</table>\n",
       "</div>"
      ],
      "text/plain": [
       "       band_gap  space_group_number\n",
       "NaCl       5.00               225.0\n",
       "MoS2       1.46               194.0\n",
       "AgF2       0.00                14.0\n",
       "Ag2Te      0.00                14.0\n",
       "NbN         NaN               225.0\n",
       "Nb3Sn      0.00                 NaN"
      ]
     },
     "execution_count": 14,
     "metadata": {},
     "output_type": "execute_result"
    }
   ],
   "source": [
    "# Creating the DataFrame\n",
    "materials_data = pd.DataFrame(\n",
    "    [\n",
    "        [5, 225],\n",
    "        [1.46, 194],\n",
    "        [0, 14],\n",
    "        [0, 14],\n",
    "        [np.nan, 225],\n",
    "        [0, np.nan]\n",
    "    ],\n",
    "    index=['NaCl', 'MoS2', 'AgF2', 'Ag2Te', 'NbN', 'Nb3Sn'],\n",
    "    columns=['band_gap', 'space_group_number']\n",
    ")\n",
    "\n",
    "# Display the DataFrame\n",
    "materials_data\n"
   ]
  },
  {
   "cell_type": "markdown",
   "id": "ae497d0f",
   "metadata": {},
   "source": [
    "## 🔍 Accessing Data Using `loc()`\n",
    "\n",
    "We can access specific entries using their **row label** and **column name**.\n"
   ]
  },
  {
   "cell_type": "code",
   "execution_count": 15,
   "id": "0bc0c78e",
   "metadata": {},
   "outputs": [
    {
     "data": {
      "text/plain": [
       "5.0"
      ]
     },
     "execution_count": 15,
     "metadata": {},
     "output_type": "execute_result"
    }
   ],
   "source": [
    "# Accessing the band gap value of NaCl\n",
    "materials_data.loc['NaCl', 'band_gap']"
   ]
  },
  {
   "cell_type": "markdown",
   "id": "a89bcd7a",
   "metadata": {},
   "source": [
    "📌 **Explanation:**  \n",
    "- `'NaCl'` is the **index (row label)**.\n",
    "- `'band_gap'` is the **column name**.\n",
    "- This directly retrieves the value stored at the intersection of that row and column.\n"
   ]
  },
  {
   "cell_type": "markdown",
   "id": "b5e1a25f",
   "metadata": {},
   "source": [
    "## 🔍 Accessing Data Using `iloc()`\n",
    "\n",
    "We can also access data using **integer-based indexing** with `iloc()`.\n"
   ]
  },
  {
   "cell_type": "code",
   "execution_count": 16,
   "id": "6a2d6cf4",
   "metadata": {},
   "outputs": [
    {
     "data": {
      "text/plain": [
       "194.0"
      ]
     },
     "execution_count": 16,
     "metadata": {},
     "output_type": "execute_result"
    }
   ],
   "source": [
    "# Accessing the space_group_number of MoS2 using positional indexing\n",
    "materials_data.iloc[1, 1]"
   ]
  },
  {
   "cell_type": "markdown",
   "id": "bf97a16f",
   "metadata": {},
   "source": [
    "📌 **Explanation:**  \n",
    "- `iloc[1, 1]` means:  \n",
    "   - Row at position `1` → corresponds to **MoS2** (since indexing starts at 0).\n",
    "   - Column at position `1` → corresponds to **space_group_number**.\n",
    "   \n",
    "So, this returns the space group number for MoS2. ✅\n"
   ]
  },
  {
   "cell_type": "code",
   "execution_count": 17,
   "id": "f0d4bb8f",
   "metadata": {},
   "outputs": [
    {
     "data": {
      "text/plain": [
       "5.0"
      ]
     },
     "execution_count": 17,
     "metadata": {},
     "output_type": "execute_result"
    }
   ],
   "source": [
    "# Accessing the band gap of NaCl using positional indexing\n",
    "materials_data.iloc[0, 0]  # Output: 5 (before updating)"
   ]
  },
  {
   "cell_type": "markdown",
   "id": "6f9e76fb",
   "metadata": {},
   "source": [
    "📌 **Note:**  \n",
    "- Position indexing starts from `0` (not `1`).\n",
    "- So `iloc[0, 0]` refers to the first row and first column of the DataFrame.\n"
   ]
  },
  {
   "cell_type": "code",
   "execution_count": 18,
   "id": "d5384e8a",
   "metadata": {},
   "outputs": [
    {
     "data": {
      "text/html": [
       "<div>\n",
       "<style scoped>\n",
       "    .dataframe tbody tr th:only-of-type {\n",
       "        vertical-align: middle;\n",
       "    }\n",
       "\n",
       "    .dataframe tbody tr th {\n",
       "        vertical-align: top;\n",
       "    }\n",
       "\n",
       "    .dataframe thead th {\n",
       "        text-align: right;\n",
       "    }\n",
       "</style>\n",
       "<table border=\"1\" class=\"dataframe\">\n",
       "  <thead>\n",
       "    <tr style=\"text-align: right;\">\n",
       "      <th></th>\n",
       "      <th>band_gap</th>\n",
       "      <th>space_group_number</th>\n",
       "    </tr>\n",
       "  </thead>\n",
       "  <tbody>\n",
       "    <tr>\n",
       "      <th>NaCl</th>\n",
       "      <td>4.86</td>\n",
       "      <td>225.0</td>\n",
       "    </tr>\n",
       "    <tr>\n",
       "      <th>MoS2</th>\n",
       "      <td>1.46</td>\n",
       "      <td>194.0</td>\n",
       "    </tr>\n",
       "    <tr>\n",
       "      <th>AgF2</th>\n",
       "      <td>0.00</td>\n",
       "      <td>14.0</td>\n",
       "    </tr>\n",
       "    <tr>\n",
       "      <th>Ag2Te</th>\n",
       "      <td>0.00</td>\n",
       "      <td>14.0</td>\n",
       "    </tr>\n",
       "    <tr>\n",
       "      <th>NbN</th>\n",
       "      <td>NaN</td>\n",
       "      <td>225.0</td>\n",
       "    </tr>\n",
       "    <tr>\n",
       "      <th>Nb3Sn</th>\n",
       "      <td>0.00</td>\n",
       "      <td>NaN</td>\n",
       "    </tr>\n",
       "  </tbody>\n",
       "</table>\n",
       "</div>"
      ],
      "text/plain": [
       "       band_gap  space_group_number\n",
       "NaCl       4.86               225.0\n",
       "MoS2       1.46               194.0\n",
       "AgF2       0.00                14.0\n",
       "Ag2Te      0.00                14.0\n",
       "NbN         NaN               225.0\n",
       "Nb3Sn      0.00                 NaN"
      ]
     },
     "execution_count": 18,
     "metadata": {},
     "output_type": "execute_result"
    }
   ],
   "source": [
    "# Updating the band gap value of NaCl from 5 eV to 4.86 eV\n",
    "materials_data.iloc[0, 0] = 4.86\n",
    "\n",
    "# Display the updated DataFrame\n",
    "materials_data"
   ]
  },
  {
   "cell_type": "code",
   "execution_count": 19,
   "id": "e06b63aa",
   "metadata": {},
   "outputs": [
    {
     "data": {
      "text/html": [
       "<div>\n",
       "<style scoped>\n",
       "    .dataframe tbody tr th:only-of-type {\n",
       "        vertical-align: middle;\n",
       "    }\n",
       "\n",
       "    .dataframe tbody tr th {\n",
       "        vertical-align: top;\n",
       "    }\n",
       "\n",
       "    .dataframe thead th {\n",
       "        text-align: right;\n",
       "    }\n",
       "</style>\n",
       "<table border=\"1\" class=\"dataframe\">\n",
       "  <thead>\n",
       "    <tr style=\"text-align: right;\">\n",
       "      <th></th>\n",
       "      <th>band_gap</th>\n",
       "    </tr>\n",
       "  </thead>\n",
       "  <tbody>\n",
       "    <tr>\n",
       "      <th>NaCl</th>\n",
       "      <td>4.86</td>\n",
       "    </tr>\n",
       "    <tr>\n",
       "      <th>MoS2</th>\n",
       "      <td>1.46</td>\n",
       "    </tr>\n",
       "  </tbody>\n",
       "</table>\n",
       "</div>"
      ],
      "text/plain": [
       "      band_gap\n",
       "NaCl      4.86\n",
       "MoS2      1.46"
      ]
     },
     "execution_count": 19,
     "metadata": {},
     "output_type": "execute_result"
    }
   ],
   "source": [
    "# Selecting rows indexed 0 to 1 (inclusive of 0, exclusive of 2), and only the first column\n",
    "materials_data.iloc[0:2, 0:1]\n"
   ]
  },
  {
   "cell_type": "markdown",
   "id": "a188f688",
   "metadata": {},
   "source": [
    "📌 **Note:**  \n",
    "- `iloc[0:2, 0:1]` returns rows 0 and 1, and only the first column (`band_gap`).\n",
    "- Remember: slicing works like `start:stop` where `stop` is exclusive.\n"
   ]
  },
  {
   "cell_type": "markdown",
   "id": "cccd3322",
   "metadata": {},
   "source": [
    "## 🚩 Handling Missing Values\n",
    "\n",
    "Let’s check if our `materials_data` DataFrame contains any missing values and then learn how to handle them."
   ]
  },
  {
   "cell_type": "code",
   "execution_count": 20,
   "id": "fc56e811",
   "metadata": {},
   "outputs": [
    {
     "data": {
      "text/html": [
       "<div>\n",
       "<style scoped>\n",
       "    .dataframe tbody tr th:only-of-type {\n",
       "        vertical-align: middle;\n",
       "    }\n",
       "\n",
       "    .dataframe tbody tr th {\n",
       "        vertical-align: top;\n",
       "    }\n",
       "\n",
       "    .dataframe thead th {\n",
       "        text-align: right;\n",
       "    }\n",
       "</style>\n",
       "<table border=\"1\" class=\"dataframe\">\n",
       "  <thead>\n",
       "    <tr style=\"text-align: right;\">\n",
       "      <th></th>\n",
       "      <th>band_gap</th>\n",
       "      <th>space_group_number</th>\n",
       "    </tr>\n",
       "  </thead>\n",
       "  <tbody>\n",
       "    <tr>\n",
       "      <th>NaCl</th>\n",
       "      <td>False</td>\n",
       "      <td>False</td>\n",
       "    </tr>\n",
       "    <tr>\n",
       "      <th>MoS2</th>\n",
       "      <td>False</td>\n",
       "      <td>False</td>\n",
       "    </tr>\n",
       "    <tr>\n",
       "      <th>AgF2</th>\n",
       "      <td>False</td>\n",
       "      <td>False</td>\n",
       "    </tr>\n",
       "    <tr>\n",
       "      <th>Ag2Te</th>\n",
       "      <td>False</td>\n",
       "      <td>False</td>\n",
       "    </tr>\n",
       "    <tr>\n",
       "      <th>NbN</th>\n",
       "      <td>True</td>\n",
       "      <td>False</td>\n",
       "    </tr>\n",
       "    <tr>\n",
       "      <th>Nb3Sn</th>\n",
       "      <td>False</td>\n",
       "      <td>True</td>\n",
       "    </tr>\n",
       "  </tbody>\n",
       "</table>\n",
       "</div>"
      ],
      "text/plain": [
       "       band_gap  space_group_number\n",
       "NaCl      False               False\n",
       "MoS2      False               False\n",
       "AgF2      False               False\n",
       "Ag2Te     False               False\n",
       "NbN        True               False\n",
       "Nb3Sn     False                True"
      ]
     },
     "execution_count": 20,
     "metadata": {},
     "output_type": "execute_result"
    }
   ],
   "source": [
    "# Checking for missing values\n",
    "pd.isna(materials_data)"
   ]
  },
  {
   "cell_type": "markdown",
   "id": "8db36da5",
   "metadata": {},
   "source": [
    "📌 **Note:**  \n",
    "- `True` indicates a missing value (`NaN`) in that position.\n",
    "- We will now handle these missing values by filling them with the **mean of their corresponding columns**.\n"
   ]
  },
  {
   "cell_type": "code",
   "execution_count": 21,
   "id": "63f311c9",
   "metadata": {},
   "outputs": [
    {
     "data": {
      "text/html": [
       "<div>\n",
       "<style scoped>\n",
       "    .dataframe tbody tr th:only-of-type {\n",
       "        vertical-align: middle;\n",
       "    }\n",
       "\n",
       "    .dataframe tbody tr th {\n",
       "        vertical-align: top;\n",
       "    }\n",
       "\n",
       "    .dataframe thead th {\n",
       "        text-align: right;\n",
       "    }\n",
       "</style>\n",
       "<table border=\"1\" class=\"dataframe\">\n",
       "  <thead>\n",
       "    <tr style=\"text-align: right;\">\n",
       "      <th></th>\n",
       "      <th>band_gap</th>\n",
       "      <th>space_group_number</th>\n",
       "    </tr>\n",
       "  </thead>\n",
       "  <tbody>\n",
       "    <tr>\n",
       "      <th>NaCl</th>\n",
       "      <td>4.860</td>\n",
       "      <td>225.000</td>\n",
       "    </tr>\n",
       "    <tr>\n",
       "      <th>MoS2</th>\n",
       "      <td>1.460</td>\n",
       "      <td>194.000</td>\n",
       "    </tr>\n",
       "    <tr>\n",
       "      <th>AgF2</th>\n",
       "      <td>0.000</td>\n",
       "      <td>14.000</td>\n",
       "    </tr>\n",
       "    <tr>\n",
       "      <th>Ag2Te</th>\n",
       "      <td>0.000</td>\n",
       "      <td>14.000</td>\n",
       "    </tr>\n",
       "    <tr>\n",
       "      <th>NbN</th>\n",
       "      <td>1.264</td>\n",
       "      <td>225.000</td>\n",
       "    </tr>\n",
       "    <tr>\n",
       "      <th>Nb3Sn</th>\n",
       "      <td>0.000</td>\n",
       "      <td>1.264</td>\n",
       "    </tr>\n",
       "  </tbody>\n",
       "</table>\n",
       "</div>"
      ],
      "text/plain": [
       "       band_gap  space_group_number\n",
       "NaCl      4.860             225.000\n",
       "MoS2      1.460             194.000\n",
       "AgF2      0.000              14.000\n",
       "Ag2Te     0.000              14.000\n",
       "NbN       1.264             225.000\n",
       "Nb3Sn     0.000               1.264"
      ]
     },
     "execution_count": 21,
     "metadata": {},
     "output_type": "execute_result"
    }
   ],
   "source": [
    "# Attempt to fill NaN values with the mean of 'band_gap'\n",
    "materials_data.fillna(value=materials_data['band_gap'].mean())"
   ]
  },
  {
   "cell_type": "markdown",
   "id": "bfb6a6ab",
   "metadata": {},
   "source": [
    "## 🚮 Correctly Dropping Missing Values\n"
   ]
  },
  {
   "cell_type": "code",
   "execution_count": 22,
   "id": "bdb2c71f",
   "metadata": {},
   "outputs": [
    {
     "data": {
      "text/html": [
       "<div>\n",
       "<style scoped>\n",
       "    .dataframe tbody tr th:only-of-type {\n",
       "        vertical-align: middle;\n",
       "    }\n",
       "\n",
       "    .dataframe tbody tr th {\n",
       "        vertical-align: top;\n",
       "    }\n",
       "\n",
       "    .dataframe thead th {\n",
       "        text-align: right;\n",
       "    }\n",
       "</style>\n",
       "<table border=\"1\" class=\"dataframe\">\n",
       "  <thead>\n",
       "    <tr style=\"text-align: right;\">\n",
       "      <th></th>\n",
       "      <th>band_gap</th>\n",
       "      <th>space_group_number</th>\n",
       "    </tr>\n",
       "  </thead>\n",
       "  <tbody>\n",
       "    <tr>\n",
       "      <th>NaCl</th>\n",
       "      <td>4.86</td>\n",
       "      <td>225.0</td>\n",
       "    </tr>\n",
       "    <tr>\n",
       "      <th>MoS2</th>\n",
       "      <td>1.46</td>\n",
       "      <td>194.0</td>\n",
       "    </tr>\n",
       "    <tr>\n",
       "      <th>AgF2</th>\n",
       "      <td>0.00</td>\n",
       "      <td>14.0</td>\n",
       "    </tr>\n",
       "    <tr>\n",
       "      <th>Ag2Te</th>\n",
       "      <td>0.00</td>\n",
       "      <td>14.0</td>\n",
       "    </tr>\n",
       "  </tbody>\n",
       "</table>\n",
       "</div>"
      ],
      "text/plain": [
       "       band_gap  space_group_number\n",
       "NaCl       4.86               225.0\n",
       "MoS2       1.46               194.0\n",
       "AgF2       0.00                14.0\n",
       "Ag2Te      0.00                14.0"
      ]
     },
     "execution_count": 22,
     "metadata": {},
     "output_type": "execute_result"
    }
   ],
   "source": [
    "# Dropping rows where ANY column has a missing value\n",
    "materials_data_clean = materials_data.dropna(how='any')\n",
    "\n",
    "# Displaying the cleaned DataFrame\n",
    "materials_data_clean"
   ]
  },
  {
   "cell_type": "markdown",
   "id": "b9f2ee08",
   "metadata": {},
   "source": [
    "📌 **Explanation:**\n",
    "\n",
    "- `how='any'` ➔ Drops a row **if any column** has a missing (`NaN`) value.\n",
    "- `how='all'` ➔ Drops a row **only if all columns** have missing values.\n",
    "- Use `axis=1` if you want to drop columns instead of rows.\n",
    "\n",
    "⚠️ In real-world datasets, always analyze which strategy is appropriate before removing data!  \n",
    "We don't want to accidentally lose useful information 🔬🤖.\n"
   ]
  },
  {
   "cell_type": "markdown",
   "id": "6e315150",
   "metadata": {},
   "source": [
    "## 🔢 Using `value_counts()` for Quick Frequency Counts"
   ]
  },
  {
   "cell_type": "code",
   "execution_count": 23,
   "id": "2090d8b4",
   "metadata": {},
   "outputs": [
    {
     "data": {
      "text/plain": [
       "band_gap  space_group_number\n",
       "0.00      14.0                  2\n",
       "1.46      194.0                 1\n",
       "4.86      225.0                 1\n",
       "dtype: int64"
      ]
     },
     "execution_count": 23,
     "metadata": {},
     "output_type": "execute_result"
    }
   ],
   "source": [
    "# Count how many times each unique row appears\n",
    "materials_data.value_counts()"
   ]
  },
  {
   "cell_type": "code",
   "execution_count": 24,
   "id": "66415c38",
   "metadata": {},
   "outputs": [
    {
     "data": {
      "text/plain": [
       "band_gap  space_group_number\n",
       "1.46      194.0                 1\n",
       "dtype: int64"
      ]
     },
     "execution_count": 24,
     "metadata": {},
     "output_type": "execute_result"
    }
   ],
   "source": [
    "# Filtering rows where space_group_number equals 194 and then counting\n",
    "materials_data[materials_data['space_group_number'] == 194].value_counts()\n"
   ]
  },
  {
   "cell_type": "markdown",
   "id": "9fef0bac",
   "metadata": {},
   "source": [
    "📌 **Explanation:**\n",
    "\n",
    "- `value_counts()` works on **rows** by default (when applied on a DataFrame).  \n",
    "- The second example first filters rows where `space_group_number` is `194`, and then counts how many times each combination of values appears.\n",
    "\n",
    "✅ Very useful when analyzing duplicates or frequency of identical data entries!\n"
   ]
  },
  {
   "cell_type": "markdown",
   "id": "9a400884",
   "metadata": {},
   "source": [
    "## 🔗 Concatenation: Adding More Data to Our DataFrame"
   ]
  },
  {
   "cell_type": "code",
   "execution_count": 25,
   "id": "2d40b77e",
   "metadata": {},
   "outputs": [
    {
     "data": {
      "text/html": [
       "<div>\n",
       "<style scoped>\n",
       "    .dataframe tbody tr th:only-of-type {\n",
       "        vertical-align: middle;\n",
       "    }\n",
       "\n",
       "    .dataframe tbody tr th {\n",
       "        vertical-align: top;\n",
       "    }\n",
       "\n",
       "    .dataframe thead th {\n",
       "        text-align: right;\n",
       "    }\n",
       "</style>\n",
       "<table border=\"1\" class=\"dataframe\">\n",
       "  <thead>\n",
       "    <tr style=\"text-align: right;\">\n",
       "      <th></th>\n",
       "      <th>is_metal</th>\n",
       "      <th>atomic_number</th>\n",
       "    </tr>\n",
       "  </thead>\n",
       "  <tbody>\n",
       "    <tr>\n",
       "      <th>Na</th>\n",
       "      <td>yes</td>\n",
       "      <td>11</td>\n",
       "    </tr>\n",
       "    <tr>\n",
       "      <th>Au</th>\n",
       "      <td>yes</td>\n",
       "      <td>79</td>\n",
       "    </tr>\n",
       "    <tr>\n",
       "      <th>Ag</th>\n",
       "      <td>yes</td>\n",
       "      <td>47</td>\n",
       "    </tr>\n",
       "    <tr>\n",
       "      <th>Fe</th>\n",
       "      <td>yes</td>\n",
       "      <td>26</td>\n",
       "    </tr>\n",
       "  </tbody>\n",
       "</table>\n",
       "</div>"
      ],
      "text/plain": [
       "   is_metal  atomic_number\n",
       "Na      yes             11\n",
       "Au      yes             79\n",
       "Ag      yes             47\n",
       "Fe      yes             26"
      ]
     },
     "execution_count": 25,
     "metadata": {},
     "output_type": "execute_result"
    }
   ],
   "source": [
    "# Creating another DataFrame containing metal property and atomic number\n",
    "mat_data = pd.DataFrame(\n",
    "    [\n",
    "        ['yes', 11],\n",
    "        ['yes', 79],\n",
    "        ['yes', 47],\n",
    "        ['yes', 26]\n",
    "    ],\n",
    "    index=['Na', 'Au', 'Ag', 'Fe'],\n",
    "    columns=['is_metal', 'atomic_number']\n",
    ")\n",
    "\n",
    "# Display the new DataFrame\n",
    "mat_data"
   ]
  },
  {
   "cell_type": "markdown",
   "id": "cbde3fe1",
   "metadata": {},
   "source": [
    "📌 **Note:**  \n",
    "We have now created a second DataFrame `mat_data` containing information on:\n",
    "\n",
    "- Whether the element is a metal (`is_metal`)\n",
    "- Its atomic number (`atomic_number`)\n",
    "\n",
    "This will allow us to practice **concatenation** operations next. 🔧🐼\n"
   ]
  },
  {
   "cell_type": "code",
   "execution_count": 26,
   "id": "80f8fc00",
   "metadata": {},
   "outputs": [
    {
     "data": {
      "text/html": [
       "<div>\n",
       "<style scoped>\n",
       "    .dataframe tbody tr th:only-of-type {\n",
       "        vertical-align: middle;\n",
       "    }\n",
       "\n",
       "    .dataframe tbody tr th {\n",
       "        vertical-align: top;\n",
       "    }\n",
       "\n",
       "    .dataframe thead th {\n",
       "        text-align: right;\n",
       "    }\n",
       "</style>\n",
       "<table border=\"1\" class=\"dataframe\">\n",
       "  <thead>\n",
       "    <tr style=\"text-align: right;\">\n",
       "      <th></th>\n",
       "      <th>is_metal</th>\n",
       "      <th>atomic_number</th>\n",
       "    </tr>\n",
       "  </thead>\n",
       "  <tbody>\n",
       "    <tr>\n",
       "      <th>B</th>\n",
       "      <td>no</td>\n",
       "      <td>5</td>\n",
       "    </tr>\n",
       "    <tr>\n",
       "      <th>S</th>\n",
       "      <td>no</td>\n",
       "      <td>16</td>\n",
       "    </tr>\n",
       "    <tr>\n",
       "      <th>Kr</th>\n",
       "      <td>no</td>\n",
       "      <td>36</td>\n",
       "    </tr>\n",
       "    <tr>\n",
       "      <th>Cs</th>\n",
       "      <td>yes</td>\n",
       "      <td>55</td>\n",
       "    </tr>\n",
       "  </tbody>\n",
       "</table>\n",
       "</div>"
      ],
      "text/plain": [
       "   is_metal  atomic_number\n",
       "B        no              5\n",
       "S        no             16\n",
       "Kr       no             36\n",
       "Cs      yes             55"
      ]
     },
     "execution_count": 26,
     "metadata": {},
     "output_type": "execute_result"
    }
   ],
   "source": [
    "# Creating a second DataFrame to concatenate\n",
    "mat_data_1 = pd.DataFrame(\n",
    "    [\n",
    "        ['no', 5],\n",
    "        ['no', 16],\n",
    "        ['no', 36],\n",
    "        ['yes', 55]\n",
    "    ],\n",
    "    index=['B', 'S', 'Kr', 'Cs'],\n",
    "    columns=['is_metal', 'atomic_number']\n",
    ")\n",
    "mat_data_1"
   ]
  },
  {
   "cell_type": "markdown",
   "id": "ce0eafcf",
   "metadata": {},
   "source": [
    "## 🔗 Concatenating DataFrames by Rows and Columns"
   ]
  },
  {
   "cell_type": "code",
   "execution_count": 27,
   "id": "0f98458a",
   "metadata": {},
   "outputs": [
    {
     "data": {
      "text/html": [
       "<div>\n",
       "<style scoped>\n",
       "    .dataframe tbody tr th:only-of-type {\n",
       "        vertical-align: middle;\n",
       "    }\n",
       "\n",
       "    .dataframe tbody tr th {\n",
       "        vertical-align: top;\n",
       "    }\n",
       "\n",
       "    .dataframe thead th {\n",
       "        text-align: right;\n",
       "    }\n",
       "</style>\n",
       "<table border=\"1\" class=\"dataframe\">\n",
       "  <thead>\n",
       "    <tr style=\"text-align: right;\">\n",
       "      <th></th>\n",
       "      <th>is_metal</th>\n",
       "      <th>atomic_number</th>\n",
       "    </tr>\n",
       "  </thead>\n",
       "  <tbody>\n",
       "    <tr>\n",
       "      <th>Na</th>\n",
       "      <td>yes</td>\n",
       "      <td>11</td>\n",
       "    </tr>\n",
       "    <tr>\n",
       "      <th>Au</th>\n",
       "      <td>yes</td>\n",
       "      <td>79</td>\n",
       "    </tr>\n",
       "    <tr>\n",
       "      <th>Ag</th>\n",
       "      <td>yes</td>\n",
       "      <td>47</td>\n",
       "    </tr>\n",
       "    <tr>\n",
       "      <th>Fe</th>\n",
       "      <td>yes</td>\n",
       "      <td>26</td>\n",
       "    </tr>\n",
       "    <tr>\n",
       "      <th>B</th>\n",
       "      <td>no</td>\n",
       "      <td>5</td>\n",
       "    </tr>\n",
       "    <tr>\n",
       "      <th>S</th>\n",
       "      <td>no</td>\n",
       "      <td>16</td>\n",
       "    </tr>\n",
       "    <tr>\n",
       "      <th>Kr</th>\n",
       "      <td>no</td>\n",
       "      <td>36</td>\n",
       "    </tr>\n",
       "    <tr>\n",
       "      <th>Cs</th>\n",
       "      <td>yes</td>\n",
       "      <td>55</td>\n",
       "    </tr>\n",
       "  </tbody>\n",
       "</table>\n",
       "</div>"
      ],
      "text/plain": [
       "   is_metal  atomic_number\n",
       "Na      yes             11\n",
       "Au      yes             79\n",
       "Ag      yes             47\n",
       "Fe      yes             26\n",
       "B        no              5\n",
       "S        no             16\n",
       "Kr       no             36\n",
       "Cs      yes             55"
      ]
     },
     "execution_count": 27,
     "metadata": {},
     "output_type": "execute_result"
    }
   ],
   "source": [
    "# Concatenating the two DataFrames along rows (stacking one below another)\n",
    "concat_row = pd.concat([mat_data, mat_data_1], axis=0)\n",
    "concat_row"
   ]
  },
  {
   "cell_type": "code",
   "execution_count": 28,
   "id": "6cf63542",
   "metadata": {},
   "outputs": [
    {
     "data": {
      "text/html": [
       "<div>\n",
       "<style scoped>\n",
       "    .dataframe tbody tr th:only-of-type {\n",
       "        vertical-align: middle;\n",
       "    }\n",
       "\n",
       "    .dataframe tbody tr th {\n",
       "        vertical-align: top;\n",
       "    }\n",
       "\n",
       "    .dataframe thead th {\n",
       "        text-align: right;\n",
       "    }\n",
       "</style>\n",
       "<table border=\"1\" class=\"dataframe\">\n",
       "  <thead>\n",
       "    <tr style=\"text-align: right;\">\n",
       "      <th></th>\n",
       "      <th>is_metal</th>\n",
       "      <th>atomic_number</th>\n",
       "      <th>is_metal</th>\n",
       "      <th>atomic_number</th>\n",
       "    </tr>\n",
       "  </thead>\n",
       "  <tbody>\n",
       "    <tr>\n",
       "      <th>Na</th>\n",
       "      <td>yes</td>\n",
       "      <td>11.0</td>\n",
       "      <td>NaN</td>\n",
       "      <td>NaN</td>\n",
       "    </tr>\n",
       "    <tr>\n",
       "      <th>Au</th>\n",
       "      <td>yes</td>\n",
       "      <td>79.0</td>\n",
       "      <td>NaN</td>\n",
       "      <td>NaN</td>\n",
       "    </tr>\n",
       "    <tr>\n",
       "      <th>Ag</th>\n",
       "      <td>yes</td>\n",
       "      <td>47.0</td>\n",
       "      <td>NaN</td>\n",
       "      <td>NaN</td>\n",
       "    </tr>\n",
       "    <tr>\n",
       "      <th>Fe</th>\n",
       "      <td>yes</td>\n",
       "      <td>26.0</td>\n",
       "      <td>NaN</td>\n",
       "      <td>NaN</td>\n",
       "    </tr>\n",
       "    <tr>\n",
       "      <th>B</th>\n",
       "      <td>NaN</td>\n",
       "      <td>NaN</td>\n",
       "      <td>no</td>\n",
       "      <td>5.0</td>\n",
       "    </tr>\n",
       "    <tr>\n",
       "      <th>S</th>\n",
       "      <td>NaN</td>\n",
       "      <td>NaN</td>\n",
       "      <td>no</td>\n",
       "      <td>16.0</td>\n",
       "    </tr>\n",
       "    <tr>\n",
       "      <th>Kr</th>\n",
       "      <td>NaN</td>\n",
       "      <td>NaN</td>\n",
       "      <td>no</td>\n",
       "      <td>36.0</td>\n",
       "    </tr>\n",
       "    <tr>\n",
       "      <th>Cs</th>\n",
       "      <td>NaN</td>\n",
       "      <td>NaN</td>\n",
       "      <td>yes</td>\n",
       "      <td>55.0</td>\n",
       "    </tr>\n",
       "  </tbody>\n",
       "</table>\n",
       "</div>"
      ],
      "text/plain": [
       "   is_metal  atomic_number is_metal  atomic_number\n",
       "Na      yes           11.0      NaN            NaN\n",
       "Au      yes           79.0      NaN            NaN\n",
       "Ag      yes           47.0      NaN            NaN\n",
       "Fe      yes           26.0      NaN            NaN\n",
       "B       NaN            NaN       no            5.0\n",
       "S       NaN            NaN       no           16.0\n",
       "Kr      NaN            NaN       no           36.0\n",
       "Cs      NaN            NaN      yes           55.0"
      ]
     },
     "execution_count": 28,
     "metadata": {},
     "output_type": "execute_result"
    }
   ],
   "source": [
    "# Concatenating the two DataFrames along columns (side-by-side)\n",
    "concat_columns = pd.concat([mat_data, mat_data_1], axis=1)\n",
    "concat_columns"
   ]
  },
  {
   "cell_type": "markdown",
   "id": "c74a702e",
   "metadata": {},
   "source": [
    "📌 **Explanation:**\n",
    "\n",
    "- `axis=0` ➔ Stacks DataFrames vertically (rows added).  \n",
    "- `axis=1` ➔ Stacks DataFrames horizontally (columns added).  \n",
    "- When indexes don't match, Pandas automatically aligns them and fills missing values with `NaN`.\n",
    "\n",
    "✅ Be cautious when merging on `axis=1` — matching indexes are essential to avoid unintended `NaN` entries.  \n"
   ]
  },
  {
   "cell_type": "markdown",
   "id": "502f13df",
   "metadata": {},
   "source": [
    "\n",
    "## 📚 Some Useful Resources to Learn Pandas Further\n",
    "\n",
    "1️⃣ [**Complete Python Pandas Data Science Tutorial!** (2025 Updated Edition)\n",
    "](https://www.youtube.com/watch?v=2uvysYbKdjM)  \n",
    "A beginner-friendly crash course that covers the basics of Python in just over an hour.\n"
   ]
  },
  {
   "cell_type": "code",
   "execution_count": null,
   "id": "5b1b5638",
   "metadata": {},
   "outputs": [],
   "source": []
  }
 ],
 "metadata": {
  "kernelspec": {
   "display_name": "Python 3 (ipykernel)",
   "language": "python",
   "name": "python3"
  },
  "language_info": {
   "codemirror_mode": {
    "name": "ipython",
    "version": 3
   },
   "file_extension": ".py",
   "mimetype": "text/x-python",
   "name": "python",
   "nbconvert_exporter": "python",
   "pygments_lexer": "ipython3",
   "version": "3.10.17"
  }
 },
 "nbformat": 4,
 "nbformat_minor": 5
}
