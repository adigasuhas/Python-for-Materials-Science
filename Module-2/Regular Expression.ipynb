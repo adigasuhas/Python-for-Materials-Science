{
 "cells": [
  {
   "cell_type": "markdown",
   "id": "82ceb75b",
   "metadata": {},
   "source": [
    "# 🔍 Regular Expressions in Python\n",
    "\n",
    "**Created by**: [@adigasuhas](https://github.com/adigasuhas)  \n",
    "**Contact**: suhasadiga@jncasr.ac.in\n",
    "\n",
    "---\n",
    "\n",
    "Welcome! 🙌  \n",
    "This notebook is part of a tutorial series crafted to teach **Python from the ground up** — in a simple, clear, and beginner-friendly way. We'll use examples especially relevant to **Materials Science** to make learning practical and engaging.\n",
    "\n",
    "Python is one of the most popular and versatile programming languages today. Whether you're analyzing data, automating repetitive tasks, or running scientific simulations, Python is an essential tool in modern research.\n",
    "\n",
    "---\n",
    "\n",
    "## 📘 What You'll Learn in This Notebook\n",
    "\n",
    "In this notebook, you'll learn:\n",
    "\n",
    "- ✨ **How to match patterns and process text using Regular Expressions (RegEx)**  \n",
    "  Understand how to search, extract, and manipulate patterns in raw text — a skill that’s incredibly useful in data cleaning and scientific text mining.\n",
    "\n",
    "---\n",
    "\n",
    "> 📝 **Note**: This tutorial assumes **no prior programming experience**. Each concept is introduced step-by-step with simple explanations, real-world analogies, and hands-on examples.\n",
    "\n",
    "Let's get started! 🚀\n"
   ]
  },
  {
   "cell_type": "markdown",
   "id": "841d3da5",
   "metadata": {},
   "source": [
    "# 🔍 Regular Expressions (Regex)\n",
    "\n",
    "A **regular expression** (commonly abbreviated as *regex* or *regexp*) is a sequence of characters that defines a search pattern in text. It serves a similar purpose to the \"Find\" or \"Find and Replace\" functions that we often use in word processors, PDF readers, or other software tools.\n",
    "\n",
    "The concept of regular expressions was introduced in the 1950s by American mathematician **Stephen Cole Kleene**, and it was first implemented in Unix-based text-processing utilities.\n",
    "\n",
    "## 📄 Relevance in Materials Science\n",
    "\n",
    "In the context of materials science, regular expressions can be particularly useful when working with text files that contain repeated patterns. For example, they can help extract chemical compositions or other structured information from raw data files. This becomes especially important in the application of machine learning to materials science, where preprocessing and extracting relevant information from text is a key step in building accurate models.\n",
    "\n",
    "---\n",
    "✅ Python provides a built-in module called `re`, which contains all the essential utilities for working with regular expressions.\n"
   ]
  },
  {
   "cell_type": "code",
   "execution_count": 1,
   "id": "a83e53e4",
   "metadata": {},
   "outputs": [],
   "source": [
    "import re"
   ]
  },
  {
   "cell_type": "markdown",
   "id": "f80a5db1",
   "metadata": {},
   "source": [
    "## 🛠️ Functions in `re`\n",
    "\n",
    "Python's `re` module provides several functions to work with regular expressions. Below are some of the most commonly used ones:\n",
    "\n",
    "- `findall(<pattern>, string)`  \n",
    "  → Searches through the string and returns a list of all substrings that match the specified pattern.\n",
    "\n",
    "- `search(<pattern>, string)`  \n",
    "  → Scans through the string and returns a match object for the **first** occurrence of the pattern. Returns `None` if no match is found.\n",
    "\n",
    "- `split(<pattern>, string)`  \n",
    "  → Splits the string at each occurrence of the pattern. This is especially useful when the splitting criterion is not a simple space or delimiter.\n",
    "\n",
    "- `sub(<pattern>, <replacement>, string)`  \n",
    "  → Identifies all occurrences of the pattern in the string and replaces them with the specified `replacement`.\n",
    "\n",
    "While the functionality of `sub` is generally self-explanatory, the behavior of the other three functions (`findall`, `search`, and `split`) may seem less intuitive at first. These will become clearer through examples.\n",
    "\n",
    "Before we proceed to those examples, we will first explore **metacharacters**, which are essential for defining regex patterns in a way that can be interpreted by the machine.\n"
   ]
  },
  {
   "cell_type": "markdown",
   "id": "ae45b27a",
   "metadata": {},
   "source": [
    "## 🤖 Metacharacters in Regular Expressions\n",
    "\n",
    "Metacharacters are symbols used in regex to define search patterns more precisely. Below is a table summarizing commonly used metacharacters:\n",
    "\n",
    "| Character(s) | Function | Example |\n",
    "|--------------|----------|---------|\n",
    "| `[]`         | Identifies a set or range of characters | `[u-w]` matches any one character in the range *u* to *w*. |\n",
    "| `()`         | Captures and groups characters | `(u-w)` groups characters literally, not as a range. |\n",
    "| `\\`          | Indicates a special sequence | `\\s` matches any whitespace character. |\n",
    "| `.`          | Matches any single character (except newline) | `d..d` matches any 4-letter word that starts and ends with `d`, like `dead` or `died`. |\n",
    "| `^`          | Asserts the start of a string | `^Na` matches strings starting with `Na`, like `NaCl` or `Nascent`. |\n",
    "| `$`          | Asserts the end of a string | `.$` matches strings ending with any single character followed by a period. |\n",
    "| `*`          | Matches zero or more occurrences | `Na.*C` matches strings where `Na` is followed by any characters (including none) and then a `C`. |\n",
    "| `+`          | Matches one or more occurrences | Similar to `*`, but requires at least one occurrence. |\n",
    "| `?`          | Matches zero or one occurrence | Useful for optional characters or groups. |\n",
    "| `{n}`        | Matches exactly *n* occurrences | `Na.{2}Cl` matches `Na` followed by any 2 characters, and then `Cl`. |\n",
    "| `|`          | Logical OR (either this or that) | `metal|non-metal` matches either `metal` or `non-metal`. |\n",
    "\n",
    "These metacharacters are building blocks for defining patterns in a flexible and powerful way. They become especially useful in extracting structured data from unstructured text.\n"
   ]
  },
  {
   "cell_type": "markdown",
   "id": "748950b0",
   "metadata": {},
   "source": [
    "## 🤫 Special Sequences in Regex\n",
    "\n",
    "Regular expressions provide several **special sequences**—shortcuts that simplify pattern matching using a backslash (`\\`). These are useful for identifying specific positions or character types in a string.\n",
    "\n",
    "| Character(s) | Function | Example |\n",
    "|--------------|----------|---------|\n",
    "| `\\A`         | Matches if the specified characters are at the **beginning** of the string | `\\AMaterial` matches only if the string starts with `Material`. |\n",
    "| `\\b`         | Matches at the **beginning or end** of a word boundary | `r\"\\bNaCl\"` matches `NaCl` at the start of a word; `r\"NaCl\\b\"` matches it at the end. |\n",
    "| `\\B`         | Matches where `\\b` does **not** match, i.e., **not** at the beginning or end of a word | Useful for identifying substrings inside a word, like `r\"\\BCl\"` in `NaCl`. |\n",
    "| `\\d`         | Matches **any digit** (equivalent to `[0-9]`) | In `Na0.5Cl0.5`, using `\\d+` would return `['0', '5', '0', '5']`. |\n",
    "| `\\D`         | Matches **any non-digit character** | In `NaCl`, `\\D` would return `['N', 'a', 'C', 'l']`. |\n",
    "| `\\s`         | Matches any **whitespace** character (spaces, tabs, newlines) | In `'Ti O2'`, `\\s` would match the space between `Ti` and `O2`. |\n",
    "| `\\S`         | Matches any **non-whitespace** character | In `'Ti O2'`, `\\S` would match `['T', 'i', 'O', '2']`. |\n",
    "| `\\w`         | Matches any **word character** (letters, digits, or underscore) | In `BaTi_O3`, `\\w` matches all characters. |\n",
    "| `\\W`         | Matches any **non-word character** | In `BaTi_O3!`, `\\W` matches only the `!`. |\n",
    "| `\\Z`         | Matches if the specified characters are at the **end** of the string | `O3\\Z` matches only if the string ends with `O3`. |\n",
    "\n",
    "These sequences make regex patterns more concise and powerful, especially when dealing with structured or semi-structured text.\n"
   ]
  },
  {
   "cell_type": "markdown",
   "id": "4af58c94",
   "metadata": {},
   "source": [
    "## 📝 Exercises\n",
    "\n",
    "### 🔍 a) Finding the word *computation*"
   ]
  },
  {
   "cell_type": "code",
   "execution_count": 2,
   "id": "760637b7",
   "metadata": {},
   "outputs": [],
   "source": [
    "# Sample paragraph to analyze\n",
    "intro_text = (\n",
    "    \"\"\"Topological quantum computation remains one of the most exciting and pursued paths towards fault-tolerant \n",
    "    quantum computation. In general, the framework for topological quantum computation relies on the emergence, \n",
    "    spatial manipulation, and measurement of anyonic excitations known as Majorana zero modes (MZMs), exotic states \n",
    "    of matter which form on the boundary of topological superconductors [1–3]. These obey non-Abelian statistics \n",
    "    under mutual spatial exchange which allows for encoding of unitary gates on the many-body ground state manifold \n",
    "    [4–6]. Crucially, MZM based processes have been theorized to encode a universal gate set, thus providing a \n",
    "    direct platform to encode a universal quantum computer [7–16]. Recent work in full many-body simulation did not\n",
    "    only verify this, but were also able to quantify the physical constraints of braiding in a full dynamic context.\"\"\"\n",
    ")\n"
   ]
  },
  {
   "cell_type": "code",
   "execution_count": 3,
   "id": "139b7fde",
   "metadata": {},
   "outputs": [
    {
     "name": "stdout",
     "output_type": "stream",
     "text": [
      "The word 'computation' occurs 3 times.\n"
     ]
    }
   ],
   "source": [
    "# Word to search for\n",
    "search_word = 'computation'\n",
    "\n",
    "# Using regular expression to find all occurrences\n",
    "occurrences = re.findall(search_word, intro_text)\n",
    "\n",
    "# Displaying the result\n",
    "print(f\"The word '{search_word}' occurs {len(occurrences)} times.\")"
   ]
  },
  {
   "cell_type": "markdown",
   "id": "180ba8f4",
   "metadata": {},
   "source": [
    "Clearly, we can see the word `computation` is repeated **thrice** in the entire paragraph. 🔎\n"
   ]
  },
  {
   "cell_type": "markdown",
   "id": "afea01d8",
   "metadata": {},
   "source": [
    "### 🔍 b) Check if the text contains the word *superconductivity*"
   ]
  },
  {
   "cell_type": "code",
   "execution_count": 4,
   "id": "073e4ab9",
   "metadata": {},
   "outputs": [
    {
     "name": "stdout",
     "output_type": "stream",
     "text": [
      "The first text is related to superconductivity research. 🔬\n",
      "The second text is not related to superconductivity research.\n"
     ]
    }
   ],
   "source": [
    "# Sample texts\n",
    "text_superconductivity = '''\n",
    "We consider a type I superconducting body that contains one or more holes in its interior that \n",
    "undergoes a transition between normal and superconducting states in the presence of a magnetic field. \n",
    "We argue that unlike other thermodynamic systems that undergo first order phase transitions \n",
    "the system cannot reach its equilibrium thermodynamic state, and that this sheds new light on the physics \n",
    "of the Meissner effect. How the Meissner effect occurs has not been addressed within the conventional theory \n",
    "of superconductivity, BCS. The situation considered in this paper indicates that expulsion of magnetic field \n",
    "requires physical elements absent from Hamiltonians assumed to describe superconductors within BCS theory. \n",
    "These physical elements are essential components of the alternative theory of hole superconductivity.\n",
    "'''\n",
    "\n",
    "text_non_superconductivity = '''\n",
    "Galaxy appearances reveal the physics of how they formed and evolved. Machine learning models can \n",
    "now exploit galaxies’ information-rich morphologies to predict physical properties directly from image cutouts. \n",
    "Learning the relationship between pixel-level features and galaxy properties is essential for building a physical \n",
    "understanding of galaxy evolution, but we are still unable to explicate the details of how deep neural networks \n",
    "represent image features. To address this lack of interpretability, we present a novel neural network architecture \n",
    "called a Sparse Feature Network (SFNet). SFNets produce interpretable features that can be linearly combined in \n",
    "order to estimate galaxy properties like optical emission line ratios or gas-phase metallicity. We find that SFNets\n",
    "do not sacrifice accuracy in order to gain interpretability, and that they perform comparably well to cutting-edge \n",
    "models on astronomical machine learning tasks. Our novel approach is valuable for finding physical patterns in large\n",
    "datasets and helping astronomers interpret machine learning results.\n",
    "'''\n",
    "\n",
    "# Pattern to search for superconductivity-related terms (case-insensitive)\n",
    "pattern = r'superconductivity|superconductor'\n",
    "\n",
    "# Check first text\n",
    "if re.search(pattern, text_superconductivity, re.IGNORECASE):\n",
    "    print(\"The first text is related to superconductivity research. 🔬\")\n",
    "else:\n",
    "    print(\"The first text is not related to superconductivity research.\")\n",
    "\n",
    "# Check second text\n",
    "if re.search(pattern, text_non_superconductivity, re.IGNORECASE):\n",
    "    print(\"The second text is related to superconductivity research. 🔬\")\n",
    "else:\n",
    "    print(\"The second text is not related to superconductivity research.\")"
   ]
  },
  {
   "cell_type": "markdown",
   "id": "1d1fd558",
   "metadata": {},
   "source": [
    "### 🔬 c) Extracting elements and their composition from a chemical formula\n",
    "\n",
    "We know that chemical formulas are mostly of the form:  \n",
    "`[Element1][Composition1][Element2][Composition2]...`\n",
    "\n",
    "- The **element** starts with a capital letter (A–Z), optionally followed by a lowercase letter (a–z).\n",
    "- The **composition** (subscript) should be numeric.\n"
   ]
  },
  {
   "cell_type": "code",
   "execution_count": 5,
   "id": "336064db",
   "metadata": {
    "scrolled": true
   },
   "outputs": [
    {
     "name": "stdout",
     "output_type": "stream",
     "text": [
      "Formula: NaCl ➔ [('Na', ''), ('Cl', '')]\n",
      "Formula: NaxCl1 ➔ [('Na', ''), ('Cl', '1')]\n",
      "Formula: AgTe2 ➔ [('Ag', ''), ('Te', '2')]\n",
      "Formula: Au@Tn1 ➔ [('Au', ''), ('Tn', '1')]\n"
     ]
    }
   ],
   "source": [
    "# Sample chemical formulas\n",
    "formula_valid_1 = 'NaCl'      # ✅ Valid chemical formula\n",
    "formula_invalid_1 = 'NaxCl1'  # ❌ Invalid - variable 'x' used as composition\n",
    "formula_valid_2 = 'AgTe2'     # ✅ Valid chemical formula\n",
    "formula_invalid_2 = 'Au@Tn1'  # ❌ Invalid - special character '@' present\n",
    "\n",
    "# Regex pattern: element followed by optional numeric composition\n",
    "formula_pattern = r'([A-Z][a-z]?)(\\d*\\.?\\d*)'\n",
    "\n",
    "# Applying regex extraction\n",
    "matches_valid_1 = re.findall(formula_pattern, formula_valid_1)\n",
    "matches_invalid_1 = re.findall(formula_pattern, formula_invalid_1)\n",
    "matches_valid_2 = re.findall(formula_pattern, formula_valid_2)\n",
    "matches_invalid_2 = re.findall(formula_pattern, formula_invalid_2)\n",
    "\n",
    "# Displaying the outputs\n",
    "print(f\"Formula: {formula_valid_1} ➔ {matches_valid_1}\")\n",
    "print(f\"Formula: {formula_invalid_1} ➔ {matches_invalid_1}\")\n",
    "print(f\"Formula: {formula_valid_2} ➔ {matches_valid_2}\")\n",
    "print(f\"Formula: {formula_invalid_2} ➔ {matches_invalid_2}\")"
   ]
  },
  {
   "cell_type": "markdown",
   "id": "89b4174d",
   "metadata": {},
   "source": [
    "Clearly, our regex pattern is able to identify the elements and extract the composition.  \n",
    "However:\n",
    "- An empty string (`''`) in composition may imply a count of **1** or indicate invalid characters.\n",
    "- Handling such cases will be discussed in more detail in upcoming tutorials. 🚧\n"
   ]
  },
  {
   "cell_type": "markdown",
   "id": "fb3986ef",
   "metadata": {},
   "source": [
    "### 🔄 d) Replacing words using regular expressions\n",
    "\n",
    "We will now replace all instances of  \n",
    "`superconductor / Superconductor / superconductivity / Superconductivity` with `Non-superconductor` or `Non-superconductivity` respectively.\n"
   ]
  },
  {
   "cell_type": "code",
   "execution_count": 6,
   "id": "45079fc8",
   "metadata": {},
   "outputs": [
    {
     "name": "stdout",
     "output_type": "stream",
     "text": [
      "\n",
      "We consider a type I superconducting body that contains one or more holes in its interior that \n",
      "undergoes a transition between normal and superconducting states in the presence of a magnetic field. \n",
      "We argue that unlike other thermodynamic systems that undergo first order phase transitions \n",
      "the system cannot reach its equilibrium thermodynamic state, and that this sheds new light on the physics \n",
      "of the Meissner effect. How the Meissner effect occurs has not been addressed within the conventional theory \n",
      "of Non-superconductivity, BCS. The situation considered in this paper indicates that expulsion of magnetic field \n",
      "requires physical elements absent from Hamiltonians assumed to describe Non-superconductivitys within BCS theory. \n",
      "These physical elements are essential components of the alternative theory of hole Non-superconductivity.\n",
      "\n"
     ]
    }
   ],
   "source": [
    "# Define the replacement pattern\n",
    "superconduct_pattern = r'Superconductivity|superconductivity|Superconductor|superconductor'\n",
    "\n",
    "# Perform substitution\n",
    "text_modified = re.sub(superconduct_pattern, \"Non-superconductivity\", text_superconductivity)\n",
    "\n",
    "# Display the modified text\n",
    "print(text_modified)"
   ]
  },
  {
   "cell_type": "markdown",
   "id": "d82c0e24",
   "metadata": {},
   "source": [
    "⚠️ Note:  \n",
    "- Here, we committed a small *linguistic crime* by replacing everything with `\"Non-superconductivity\"`, even if it originally was `\"superconductor\"`.  \n",
    "- Technically, this isn't entirely correct — but for now, we plead guilty in the court of Regex Justice ⚖️😂  \n",
    "- Instead we should have learned how to handle such delicate replacements more gracefully and avoid upsetting the grammar police! 🚓📚"
   ]
  },
  {
   "cell_type": "markdown",
   "id": "64fada13",
   "metadata": {},
   "source": [
    "### ✂️ e) Breaking a paragraph into sentences\n",
    "\n",
    "Now we will try to break the abstract paragraph into individual sentences.\n"
   ]
  },
  {
   "cell_type": "code",
   "execution_count": 7,
   "id": "3dfa0720",
   "metadata": {},
   "outputs": [
    {
     "name": "stdout",
     "output_type": "stream",
     "text": [
      "Sentence 1: The discovery of high-temperature superconducting materials holds great significance for human industry\n",
      "and daily life\n",
      "Sentence 2: In recent years, research on predicting superconducting transition temperatures using artificial \n",
      "intelligence (AI) has gained popularity, with most of these tools claiming to achieve remarkable accuracy\n",
      "Sentence 3: However, \n",
      "the lack of widely accepted benchmark datasets in this field has severely hindered fair comparisons between different \n",
      "AI algorithms and impeded further advancement of these methods\n",
      "Sentence 4: In this work, we present HTSC-2025, an \n",
      "ambient-pressure high-temperature superconducting benchmark dataset\n",
      "Sentence 5: This comprehensive compilation encompasses \n",
      "theoretically predicted superconducting materials discovered by theoretical physicists from 2023 to 2025 based on \n",
      "BCS superconductivity theory, including the renowned X2YH6 system, perovskite MXH3 system, M3XH8 system, \n",
      "cage-like BCN-doped metal atomic systems derived from LaH10 structural evolution, and two-dimensional honeycomb-\n",
      "structured systems evolving from MgB2\n",
      "Sentence 6: In addition, we note a range of approaches inspired by physical intuition \n",
      "for designing high-temperature superconductors, such as hole doping, the introduction of light elements to form \n",
      "strong covalent bonds, and the tuning of spin–orbit coupling\n",
      "Sentence 7: The HTSC-2025 benchmark has been open-sourced at and \n",
      "will be continuously updated\n",
      "Sentence 8: This benchmark holds significant importance for accelerating the discovery of \n",
      "superconducting materials using AI-based methods\n",
      "Sentence 9: \n"
     ]
    }
   ],
   "source": [
    "# Sample paragraph\n",
    "abstract_text = '''\n",
    "The discovery of high-temperature superconducting materials holds great significance for human industry\n",
    "and daily life. In recent years, research on predicting superconducting transition temperatures using artificial \n",
    "intelligence (AI) has gained popularity, with most of these tools claiming to achieve remarkable accuracy. However, \n",
    "the lack of widely accepted benchmark datasets in this field has severely hindered fair comparisons between different \n",
    "AI algorithms and impeded further advancement of these methods. In this work, we present HTSC-2025, an \n",
    "ambient-pressure high-temperature superconducting benchmark dataset. This comprehensive compilation encompasses \n",
    "theoretically predicted superconducting materials discovered by theoretical physicists from 2023 to 2025 based on \n",
    "BCS superconductivity theory, including the renowned X2YH6 system, perovskite MXH3 system, M3XH8 system, \n",
    "cage-like BCN-doped metal atomic systems derived from LaH10 structural evolution, and two-dimensional honeycomb-\n",
    "structured systems evolving from MgB2. In addition, we note a range of approaches inspired by physical intuition \n",
    "for designing high-temperature superconductors, such as hole doping, the introduction of light elements to form \n",
    "strong covalent bonds, and the tuning of spin–orbit coupling. The HTSC-2025 benchmark has been open-sourced at and \n",
    "will be continuously updated. This benchmark holds significant importance for accelerating the discovery of \n",
    "superconducting materials using AI-based methods.\n",
    "'''\n",
    "\n",
    "# Split paragraph into sentences using period as delimiter\n",
    "sentences = re.split(r'\\.', abstract_text)\n",
    "\n",
    "# Display each sentence\n",
    "for idx, sentence in enumerate(sentences, 1):\n",
    "    print(f\"Sentence {idx}: {sentence.strip()}\")"
   ]
  },
  {
   "cell_type": "markdown",
   "id": "a8215aca",
   "metadata": {},
   "source": []
  },
  {
   "cell_type": "markdown",
   "id": "548dd158",
   "metadata": {},
   "source": [
    "⚠️ Note:  \n",
    "- This is a simple sentence splitter using just `.` as delimiter.\n",
    "- In real-world NLP tasks, sentence splitting can get much more complicated due to abbreviations, decimals, etc.  \n",
    "- We can handle such advanced cases later with specialized libraries like `nltk` or `spacy` 🤓📚, which unfortunately won't be covered in this series.\n"
   ]
  },
  {
   "cell_type": "markdown",
   "id": "85877175",
   "metadata": {},
   "source": [
    "## 📚 Some Useful Resources to Learn Python Further\n",
    "\n",
    "1️⃣ You can use [regex101](https://regex101.com/) — an excellent interactive website to test your regular expression patterns instantly without writing full Python code. Very handy for quick debugging and learning! 🔎\n",
    "\n",
    "2️⃣ Check out the excellent tutorial by **Prof. Schwaller's group at EPFL**:  👉 [Practical Programming in Chemistry - Regular Expressions](https://schwallergroup.github.io/practical-programming-in-chemistry/tutorials/lecture_06/01_regex.html)  \n",
    "A fantastic resource for anyone working at the intersection of chemistry and programming. 🧪💻\n"
   ]
  }
 ],
 "metadata": {
  "kernelspec": {
   "display_name": "Python 3 (ipykernel)",
   "language": "python",
   "name": "python3"
  },
  "language_info": {
   "codemirror_mode": {
    "name": "ipython",
    "version": 3
   },
   "file_extension": ".py",
   "mimetype": "text/x-python",
   "name": "python",
   "nbconvert_exporter": "python",
   "pygments_lexer": "ipython3",
   "version": "3.10.17"
  }
 },
 "nbformat": 4,
 "nbformat_minor": 5
}
