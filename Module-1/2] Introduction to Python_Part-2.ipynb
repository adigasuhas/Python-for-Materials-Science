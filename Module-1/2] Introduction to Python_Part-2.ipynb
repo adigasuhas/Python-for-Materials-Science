{
 "cells": [
  {
   "cell_type": "markdown",
   "id": "879c36ab",
   "metadata": {},
   "source": [
    "# 🧪 Introduction to Python for Materials Science - Part 2\n",
    "\n",
    "**Created by**: [@adigasuhas](https://github.com/adigasuhas)  \n",
    "**Contact**: suhasadiga@jncasr.ac.in\n",
    "\n",
    "---\n",
    "\n",
    "Welcome! 👋  \n",
    "This notebook is part of a hands-on tutorial series designed to teach **Python from the ground up** — in a simple, clear, and beginner-friendly way — with examples that are especially relevant to **Materials Science**.  \n",
    "\n",
    "Python is one of the most powerful and versatile programming languages in the world today. Whether you're analyzing experimental data, automating repetitive calculations, or running simulations, Python is an essential tool in modern scientific research. 🧠⚙️\n",
    "\n",
    "---\n",
    "\n",
    "## ✅ What You'll Learn in This Notebook\n",
    "\n",
    "In this notebook, we will explore:\n",
    "\n",
    "- 🔁 **Loops and conditionals** – for making decisions and automating repetitive tasks  \n",
    "- 🧩 **Functions** – to structure your code in a modular and reusable way  \n",
    "- 🎯 **PEP-8 guidelines** – for writing clean, readable, and professional code  \n",
    "\n",
    "---\n",
    "\n",
    "> 📌 **Note**: This tutorial assumes **no prior programming experience**. Every concept will be explained step-by-step, with examples and analogies to help you understand intuitively.\n",
    "\n",
    "---\n",
    "\n",
    "Let’s dive in! 🚀\n"
   ]
  },
  {
   "cell_type": "markdown",
   "id": "20ed6b3d",
   "metadata": {},
   "source": [
    "# 🔁 Loops\n",
    "\n",
    "Loops are used to repeat actions in Python. In this section, we'll focus on two primary types:\n",
    "\n",
    "- **`for` loops** – useful for iterating over sequences like lists, strings, or ranges  \n",
    "- **`while` loops** – repeat actions based on a condition  \n",
    "\n",
    "You can also use **nested loops**, which means placing one loop inside another, useful when working with multi-dimensional data.\n",
    "\n",
    "---\n",
    "\n",
    "## 1️⃣ `for` Loops\n",
    "\n",
    "A `for` loop is used to iterate over a sequence such as a list, tuple, string, or dictionary.\n",
    "\n",
    "```python\n",
    "for i in range(10):\n",
    "    print(i, type(i))\n",
    "```\n",
    "\n",
    "In this example:\n",
    "\n",
    "   - i is the iterator\n",
    "\n",
    "   - range(10) generates numbers from 0 to 9\n",
    "\n",
    "   - Each value of i is printed along with its data type\n",
    "\n",
    "    🧠 You can use any variable name in place of i — it's just a placeholder!"
   ]
  },
  {
   "cell_type": "code",
   "execution_count": 1,
   "id": "dbd683b1",
   "metadata": {},
   "outputs": [
    {
     "name": "stdout",
     "output_type": "stream",
     "text": [
      "0 <class 'int'>\n",
      "1 <class 'int'>\n",
      "2 <class 'int'>\n",
      "3 <class 'int'>\n",
      "4 <class 'int'>\n",
      "5 <class 'int'>\n",
      "6 <class 'int'>\n",
      "7 <class 'int'>\n",
      "8 <class 'int'>\n",
      "9 <class 'int'>\n"
     ]
    }
   ],
   "source": [
    "for i in range(10):\n",
    "    print(i,int)"
   ]
  },
  {
   "cell_type": "markdown",
   "id": "fd6729ed",
   "metadata": {},
   "source": [
    "## 🧪 Looping Through a List of Compounds\n",
    "\n",
    "You can use a `for` loop to iterate through any iterable object — including a list of chemical compounds!\n"
   ]
  },
  {
   "cell_type": "code",
   "execution_count": 2,
   "id": "cb1f35e8",
   "metadata": {},
   "outputs": [
    {
     "name": "stdout",
     "output_type": "stream",
     "text": [
      "NaCl\n",
      "YBa2Cu3O7\n",
      "Mg2CuH3\n"
     ]
    }
   ],
   "source": [
    "Database = ['NaCl', 'YBa2Cu3O7', 'Mg2CuH3']\n",
    "\n",
    "for compound in Database:\n",
    "    print(compound)"
   ]
  },
  {
   "cell_type": "markdown",
   "id": "e19b7d40",
   "metadata": {},
   "source": [
    "## 🔢 Iterating with Index Using `enumerate()`\n",
    "\n",
    "If you want to loop through a list **and** keep track of the index (position) of each item, you can use the built-in `enumerate()` function."
   ]
  },
  {
   "cell_type": "code",
   "execution_count": 3,
   "id": "8d8d9495",
   "metadata": {},
   "outputs": [
    {
     "name": "stdout",
     "output_type": "stream",
     "text": [
      "0 NaCl\n",
      "1 YBa2Cu3O7\n",
      "2 Mg2CuH3\n"
     ]
    }
   ],
   "source": [
    "Database = ['NaCl', 'YBa2Cu3O7', 'Mg2CuH3']\n",
    "\n",
    "for index, compound in enumerate(Database):\n",
    "    print(index, compound)"
   ]
  },
  {
   "cell_type": "markdown",
   "id": "2968d456",
   "metadata": {},
   "source": [
    "## 🔂 Nesting a Loop\n",
    "\n",
    "You can run a loop **inside another loop** — this is known as **nesting** in programming. Nested loops are useful when working with multi-dimensional data, such as matrices or paired comparisons."
   ]
  },
  {
   "cell_type": "markdown",
   "id": "e4a52973",
   "metadata": {},
   "source": [
    "## 🧪 Example: Nested Loops for Alloy Combinations\n",
    "\n",
    "Let's consider two lists: both containing **metals**. We'll use nested loops to generate all possible binary alloy systems."
   ]
  },
  {
   "cell_type": "code",
   "execution_count": 4,
   "id": "1b7804b3",
   "metadata": {},
   "outputs": [
    {
     "name": "stdout",
     "output_type": "stream",
     "text": [
      "<class 'list'> <class 'list'>\n",
      "<class 'str'> <class 'str'>\n",
      "The possible alloy systems that can be formed are:\n",
      "Fe-Ni\n",
      "Fe-Te\n",
      "Cu-Ni\n",
      "Cu-Te\n"
     ]
    }
   ],
   "source": [
    "metallic_elements_1 = ['Fe', 'Cu']  # List of metals\n",
    "metallic_elements_2 = ['Ni', 'Te']  # List of elements from another group\n",
    "\n",
    "# Checking the types (optional, for learning purposes)\n",
    "print(type(metallic_elements_1), type(metallic_elements_2))\n",
    "print(type(metallic_elements_1[1]), type(metallic_elements_2[1]))\n",
    "\n",
    "# 🧪 Generating all possible binary combinations\n",
    "print('The possible alloy systems that can be formed are:')\n",
    "for i in range(len(metallic_elements_1)):\n",
    "    for j in range(len(metallic_elements_2)):\n",
    "        print(f'{metallic_elements_1[i]}-{metallic_elements_2[j]}')  # One can use `{}`  as a placeholder."
   ]
  },
  {
   "cell_type": "markdown",
   "id": "04885941",
   "metadata": {},
   "source": [
    "## ⛔ `break`, 🔁 `continue`, and 🕳️ `pass` Statements in Loops\n",
    "\n",
    "Python provides special statements that can **control the flow** of a loop:\n",
    "\n",
    "- 🔁 `continue` – Skips the **current** iteration and jumps to the **next** one\n",
    "- ⛔ `break` – **Exits** the loop entirely when a condition is met\n",
    "- 🕳️ `pass` – Does **nothing**; it's a placeholder used when a statement is syntactically required but you don't want to execute any code\n",
    "\n",
    "These statements are especially useful when loops are combined with **conditionals**.\n",
    "\n",
    "> ⚠️ Since using `break`, `continue`, and `pass` typically requires an understanding of conditionals (like `if` statements), we’ll cover these in more detail in a **later notebook**.\n"
   ]
  },
  {
   "cell_type": "markdown",
   "id": "36f42742",
   "metadata": {},
   "source": [
    "## 2️⃣ `while` Loops\n",
    "\n",
    "A `while` loop is used to execute a block of code **repeatedly** as long as a given condition is **`True`**."
   ]
  },
  {
   "cell_type": "markdown",
   "id": "dc585a14",
   "metadata": {},
   "source": [
    "## 🧪 Example: Using a `while` Loop to Increase Bandgap\n",
    "\n",
    "Let's say we want to perform a task where we **keep increasing the bandgap** of a material by 0.2 eV **until it reaches or exceeds 1.5 eV**."
   ]
  },
  {
   "cell_type": "code",
   "execution_count": 5,
   "id": "8df994c6",
   "metadata": {},
   "outputs": [
    {
     "name": "stdout",
     "output_type": "stream",
     "text": [
      "Initial Entry: 0.5\n",
      "Final Entry: 1.6999999999999997\n"
     ]
    }
   ],
   "source": [
    "band_gap = 0.5\n",
    "\n",
    "print('Initial Entry:', band_gap)\n",
    "\n",
    "while band_gap < 1.5:\n",
    "    band_gap += 0.2\n",
    "\n",
    "print('Final Entry:', band_gap)"
   ]
  },
  {
   "cell_type": "markdown",
   "id": "69e8b3b5",
   "metadata": {},
   "source": [
    "# 🔍 Conditionals\n",
    "\n",
    "Python supports many logical conditions derived from mathematics, including:\n",
    "\n",
    "1. ✅ Equals: `a == b`  \n",
    "2. ❌ Not Equals: `a != b`  \n",
    "3. 🔽 Less than: `a < b`  \n",
    "4. 🔽✅ Less than or equal to: `a <= b`  \n",
    "5. 🔼 Greater than: `a > b`  \n",
    "6. 🔼✅ Greater than or equal to: `a >= b`  \n",
    "\n",
    "Conditional statements like `if` are used to check the validity of an expression. If the condition is true, a block of code runs. Otherwise, you can use `else` to specify code that runs when the condition is false.\n",
    "\n",
    "---\n",
    "\n",
    "## 🤔 If Statement\n",
    "\n",
    "The `if` keyword, followed by a condition and a colon, introduces a block of code that executes **only if** the condition is true.\n",
    "\n",
    "---\n",
    "\n",
    "## 🔄 Elif Statement\n",
    "\n",
    "The `elif` (else if) keyword is used to check another condition **if the previous `if` or `elif` conditions were false**.\n",
    "\n",
    "---\n",
    "\n",
    "## 🚪 Else Statement\n",
    "\n",
    "The `else` keyword defines a block of code that runs **when none of the preceding conditions are true**.\n",
    "\n",
    "---\n",
    "\n",
    "## ⚙️ Logical Operators: `and`, `or`, `not`\n",
    "\n",
    "- `and` ➡️ combines two conditions and evaluates to true **only if both conditions are true**  \n",
    "- `or` ➡️ combines multiple conditions and evaluates to true **if any one of the conditions is true**  \n",
    "- `not` ➡️ reverses the truth value of a condition (i.e., `True` becomes `False` and vice versa)\n"
   ]
  },
  {
   "cell_type": "code",
   "execution_count": 6,
   "id": "46ccf5c9",
   "metadata": {},
   "outputs": [
    {
     "name": "stdout",
     "output_type": "stream",
     "text": [
      "Enter the bandgap of the material: 0.1\n",
      "The given compound is a narrow bandgap material.\n",
      "CPU times: user 6.58 ms, sys: 2.12 ms, total: 8.7 ms\n",
      "Wall time: 1.61 s\n"
     ]
    }
   ],
   "source": [
    "%%time\n",
    "\"\"\"\n",
    "We will write a Python expression to classify a compound as a metal, narrow-gap, or high bandgap semiconductor. \n",
    "\n",
    "Criteria:\n",
    "- Metal: bandgap = 0 eV\n",
    "- Narrow-gap: bandgap ≤ 1.1 eV\n",
    "- High bandgap: otherwise\n",
    "\"\"\"\n",
    "\n",
    "bandgap = float(input('Enter the bandgap of the material: '))\n",
    "\n",
    "if bandgap == 0:\n",
    "    print('The given compound is a metal / semi-metal.')\n",
    "elif bandgap <= 1.1:\n",
    "    print('The given compound is a narrow bandgap material.')\n",
    "else:\n",
    "    print('The given compound is a high bandgap material.')\n"
   ]
  },
  {
   "cell_type": "code",
   "execution_count": 7,
   "id": "33f39ad6",
   "metadata": {},
   "outputs": [
    {
     "name": "stdout",
     "output_type": "stream",
     "text": [
      "Enter the bandgap of the material: 0\n",
      "The given compound is a metal / semi-metal.\n",
      "CPU times: user 4.46 ms, sys: 3.11 ms, total: 7.57 ms\n",
      "Wall time: 1.18 s\n"
     ]
    }
   ],
   "source": [
    "%%time\n",
    "\"\"\"\n",
    "Another way to write the conditional to identify metal/non-metal in a single line is:\n",
    "\"\"\"\n",
    "\n",
    "bandgap = float(input('Enter the bandgap of the material: '))\n",
    "\n",
    "print('The given compound is a metal / semi-metal.') if bandgap == 0 else print('The given compound is a non-metal.')\n"
   ]
  },
  {
   "cell_type": "markdown",
   "id": "75719783",
   "metadata": {},
   "source": [
    "## 🔄 Usage of Nested `if`"
   ]
  },
  {
   "cell_type": "code",
   "execution_count": 8,
   "id": "ef158837",
   "metadata": {},
   "outputs": [
    {
     "name": "stdout",
     "output_type": "stream",
     "text": [
      "Enter the bandgap of the material: 1.8\n",
      "Valid bandgap entered\n",
      "The given compound is a high band gap material.\n",
      "CPU times: user 4.85 ms, sys: 2.29 ms, total: 7.15 ms\n",
      "Wall time: 1.53 s\n"
     ]
    }
   ],
   "source": [
    "%%time\n",
    "\"\"\"\n",
    "We will use nested if statements to classify a compound as metal/semi-metal, narrow-gap, or high-bandgap material.\n",
    "\"\"\"\n",
    "\n",
    "bandgap = float(input('Enter the bandgap of the material: '))\n",
    "\n",
    "if bandgap >= 0:\n",
    "    print(\"Valid bandgap entered\")\n",
    "    \n",
    "    if bandgap == 0:\n",
    "        print('The given compound is a metal/semi-metal.')\n",
    "    \n",
    "    if 0 < bandgap <= 1.1:\n",
    "        print('The given compound is a narrow band gap material.')\n",
    "    \n",
    "    if bandgap > 1.1:\n",
    "        print('The given compound is a high band gap material.')\n"
   ]
  },
  {
   "cell_type": "markdown",
   "id": "325015a6",
   "metadata": {},
   "source": [
    "# 🛠️ Functions\n",
    "\n",
    "A **function** is a block of reusable code that runs only when it is called. You can pass data (called **parameters** or **arguments**) into a function, and it can return a result.\n",
    "\n",
    "---\n",
    "\n",
    "### Function Structure\n",
    "\n",
    "- Starts with the keyword `def` followed by the **function name** and parentheses `()`.\n",
    "- Inside the parentheses, you specify input parameters (if any).\n",
    "- The function body contains a series of indented statements.\n",
    "- The `return` statement outputs the result from the function.\n",
    "\n",
    "---\n",
    "\n",
    "### Passing Inputs\n",
    "\n",
    "- You can pass inputs as **arguments** inside the parentheses when calling the function.\n",
    "- You can add as many arguments as needed, separated by commas.\n",
    "\n",
    "---\n",
    "\n",
    "### Special Arguments: `*args` and `**kwargs`\n",
    "\n",
    "- `*args` allows passing a **variable number of positional arguments** (packed into a tuple).\n",
    "- `**kwargs` allows passing a **variable number of keyword arguments** (packed into a dictionary).\n",
    "- When using `*args`, the order of arguments matters—they are assigned in the order they are passed.\n",
    "\n",
    "---\n",
    "\n",
    "### Docstrings\n",
    "\n",
    "Inside the function, you can write a **docstring** using triple quotes `\"\"\"<text>\"\"\"`. This documents the function’s purpose and usage.  \n",
    "You can view this documentation anytime by running: `help(function_name)`.\n"
   ]
  },
  {
   "cell_type": "code",
   "execution_count": 9,
   "id": "13e51ec1",
   "metadata": {},
   "outputs": [
    {
     "name": "stdout",
     "output_type": "stream",
     "text": [
      "The electrical conductivity of Cu at 300 K is: 52380952.38095238\n",
      "CPU times: user 86 μs, sys: 0 ns, total: 86 μs\n",
      "Wall time: 92.3 μs\n"
     ]
    }
   ],
   "source": [
    "%%time\n",
    "def thermal_electrical_conductivity(**kwargs):\n",
    "    \"\"\"\n",
    "    This function evaluates the electrical conductivity at a given temperature.\n",
    "    \n",
    "    Parameters:\n",
    "        - K: thermal conductivity (W/m·K)\n",
    "        - T: temperature in Kelvin (K)\n",
    "        \n",
    "    Returns:\n",
    "        - Electrical conductivity (S/m)\n",
    "    \"\"\"\n",
    "    K = kwargs.get('K')\n",
    "    T = kwargs.get('T')\n",
    "    L = 2.45e-8  # Lorenz number (WΩK⁻²)\n",
    "    \n",
    "    e_conductivity = K / (L * T)\n",
    "    return e_conductivity\n",
    "\n",
    "print('The electrical conductivity of Cu at 300 K is:', thermal_electrical_conductivity(K=385, T=300))\n"
   ]
  },
  {
   "cell_type": "code",
   "execution_count": 10,
   "id": "125fab6c",
   "metadata": {},
   "outputs": [
    {
     "name": "stdout",
     "output_type": "stream",
     "text": [
      "Help on function thermal_electrical_conductivity in module __main__:\n",
      "\n",
      "thermal_electrical_conductivity(**kwargs)\n",
      "    This function evaluates the electrical conductivity at a given temperature.\n",
      "    \n",
      "    Parameters:\n",
      "        - K: thermal conductivity (W/m·K)\n",
      "        - T: temperature in Kelvin (K)\n",
      "        \n",
      "    Returns:\n",
      "        - Electrical conductivity (S/m)\n",
      "\n"
     ]
    }
   ],
   "source": [
    "help(thermal_electrical_conductivity) # Displays docstring related to the function"
   ]
  },
  {
   "cell_type": "markdown",
   "id": "2f48d8de",
   "metadata": {},
   "source": [
    "# ⚡ Lambda Function\n",
    "\n",
    "A **lambda function** is a small, anonymous function that can take any number of arguments but has only one expression.\n",
    "\n",
    "---\n",
    "\n",
    "### Syntax:\n",
    "\n",
    "```python\n",
    "lambda arguments: expression\n"
   ]
  },
  {
   "cell_type": "code",
   "execution_count": 11,
   "id": "2129a84c",
   "metadata": {},
   "outputs": [
    {
     "name": "stdout",
     "output_type": "stream",
     "text": [
      "The electrical conductivity of Cu at 300 K is: 52380952.38095238\n",
      "CPU times: user 42 μs, sys: 8 μs, total: 50 μs\n",
      "Wall time: 49.1 μs\n"
     ]
    }
   ],
   "source": [
    "%%time\n",
    "L = 2.45e-8\n",
    "electrical_conductivity = lambda K, T: K / (L * T)\n",
    "\n",
    "print('The electrical conductivity of Cu at 300 K is:', electrical_conductivity(385, 300))"
   ]
  },
  {
   "cell_type": "markdown",
   "id": "a84e9db9",
   "metadata": {},
   "source": [
    "> ⚠️ While lambda functions often *look* faster because they're concise, they generally **run slower** than well-defined functions in real use.  \n",
    "> \n",
    "> Also, functions tend to run faster if variables (like constants) are defined **globally** rather than inside the function body.  \n",
    "> \n",
    "> These kinds of performance optimization tricks are important when computation time matters a lot — we’ll explore them in detail in the next notebook!  \n",
    "> \n",
    "> Even if they seem subtle or unintuitive now, understanding these can help you write more efficient code for large-scale materials science simulations and data analysis. 🚀\n"
   ]
  },
  {
   "cell_type": "markdown",
   "id": "7edc0d6d",
   "metadata": {},
   "source": [
    "# 🐍 PEP 8 – Python Style Guide\n",
    "\n",
    "**PEP 8** is the official **style guide** for writing Python code. It promotes **readable**, **consistent**, and **clean** code.\n",
    "\n",
    "---\n",
    "\n",
    "## ✅ Basic Guidelines\n",
    "\n",
    "### Indentation\n",
    "- Use **4 spaces** per indentation level.  \n",
    "- **Never use tabs**.\n",
    "\n",
    "### Line Length\n",
    "- Limit lines to **79 characters**.  \n",
    "- For docstrings or comments, prefer **72 characters**.\n",
    "\n",
    "### Blank Lines\n",
    "- Use blank lines to separate **functions**, **classes**, and **logical sections** of code.\n",
    "\n",
    "---\n",
    "\n",
    "## 📦 Imports\n",
    "- Imports should be on **separate lines**.  \n",
    "- Import order:  \n",
    "  1. Standard library imports  \n",
    "  2. Third-party imports  \n",
    "  3. Local application imports  \n",
    "\n",
    "```python\n",
    "import os\n",
    "import sys\n",
    "\n",
    "import numpy as np\n",
    "\n",
    "from my_module import my_function\n"
   ]
  },
  {
   "cell_type": "markdown",
   "id": "e00bba07",
   "metadata": {},
   "source": [
    "## 🏷️ Naming Conventions\n",
    "\n",
    "| Type          | Style                         | Example             |\n",
    "|---------------|-------------------------------|---------------------|\n",
    "| Variable/Func | `lower_case_with_underscores` | `calculate_total()`  |\n",
    "| Class         | `CamelCase`                   | `BankAccount`       |\n",
    "| Constant      | `UPPER_CASE`                  | `MAX_SIZE`          |\n",
    "\n",
    "---\n",
    "\n",
    "# 📏 Spacing Rules\n",
    "\n",
    "- Add spaces **around operators**:\n",
    "\n",
    "```python\n",
    "a = b + c\n"
   ]
  },
  {
   "cell_type": "markdown",
   "id": "f59a9e04",
   "metadata": {},
   "source": [
    "## 🧼 Clean Parentheses & Commas 🧼\n",
    "\n",
    "**Proper spacing makes code readable!**\n",
    "\n",
    "```python\n",
    "\n",
    "# ✅ Correct\n",
    "print(x, y)\n",
    "\n",
    "# ❌ Incorrect - Avoid these common mistakes!\n",
    "print( x , y )\n",
    "\n",
    "```"
   ]
  },
  {
   "cell_type": "markdown",
   "id": "fefc3143",
   "metadata": {},
   "source": [
    "## 📝 Comments & Docstrings 📝\n",
    "\n",
    "### 💡 Best practices:\n",
    "\n",
    "   - Use comments to explain why, not what.\n",
    "   - Always use \"\"\"triple quotes\"\"\" for docstrings.\n",
    "\n"
   ]
  },
  {
   "cell_type": "markdown",
   "id": "fd4d2f82",
   "metadata": {},
   "source": [
    "## 🛠️ Awesome Python Tools 🛠️\n",
    "\n",
    "### 🔧 Supercharge your workflow:\n",
    "\n",
    "   - 🚦 flake8: Python package to check style issues\n",
    "   - 🤖 autopep8: Automatically fix PEP 8 violations.\n",
    "   \n",
    "💻 Pro tip: Run this to instantly clean your code: (code.py)\n",
    "The command below will fix all the redundancies related to PEP8 guidelines in the file `code.py`"
   ]
  },
  {
   "cell_type": "markdown",
   "id": "49cbb2c0",
   "metadata": {},
   "source": [
    "```\n",
    "autopep8 --in-place --aggressive --aggressive code.py\n",
    "``` "
   ]
  },
  {
   "cell_type": "markdown",
   "id": "9b7ac0c3",
   "metadata": {},
   "source": [
    "---\n",
    "\n",
    "📢 **Disclaimer**  \n",
    "This notebook was prepared by **Suhas Adiga**.  \n",
    "Language refined and ✨ *emojified* ✨ with the help of **ChatGPT-4**, to make learning more fun and attention-grabbing! 🎯\n",
    "\n",
    "---\n"
   ]
  },
  {
   "cell_type": "markdown",
   "id": "34ddbd5d",
   "metadata": {},
   "source": [
    "## 📚 Some Useful Resources to Learn Python Further\n",
    "\n",
    "Here are a few recommended resources to help you get familiar with Python’s built-in functions and keywords. You are **not expected to memorize everything**, just get a feel for the possibilities. We’ll continue using these in practice throughout the course.\n",
    "\n",
    "---\n",
    "\n",
    "### 1️⃣ [**Tech With Tim – Every Python Function Explained (Part 1)**](https://www.youtube.com/watch?v=NYktbp1WFS8)  \n",
    "A beginner-friendly video that explains many of Python’s built-in functions, with practical examples.\n",
    "\n",
    "---\n",
    "\n",
    "### 2️⃣ [**Tech With Tim – Every Python Function Explained (Part 2)**](https://www.youtube.com/watch?v=wsETdTd1rp8)  \n",
    "Continuation of Part 1, covering more built-in functions and some basic concepts of object-oriented programming (OOP).  \n",
    "⚠️ You can skip the OOP part for now—we'll cover that in the final week of the course.\n",
    "\n",
    "---\n",
    "\n",
    "### 3️⃣ [**Indently – All 39 Python Keywords Explained**](https://www.youtube.com/watch?v=rKk8XPLysj8)  \n",
    "A concise video explaining all the reserved keywords in Python, such as `if`, `for`, `while`, `def`, and more.\n",
    "\n",
    "---\n",
    "\n",
    "📌 **Suggested Deadline**: Try to go through these videos **before the beginning of next week**. Don't worry if you don’t understand everything—we’ll reinforce these concepts through practice.\n"
   ]
  }
 ],
 "metadata": {
  "kernelspec": {
   "display_name": "Python 3 (ipykernel)",
   "language": "python",
   "name": "python3"
  },
  "language_info": {
   "codemirror_mode": {
    "name": "ipython",
    "version": 3
   },
   "file_extension": ".py",
   "mimetype": "text/x-python",
   "name": "python",
   "nbconvert_exporter": "python",
   "pygments_lexer": "ipython3",
   "version": "3.10.17"
  }
 },
 "nbformat": 4,
 "nbformat_minor": 5
}
